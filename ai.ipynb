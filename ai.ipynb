{
 "cells": [
  {
   "cell_type": "code",
   "execution_count": 1,
   "metadata": {},
   "outputs": [],
   "source": [
    "import pandas as pd\n",
    "import tensorflow as tf\n",
    "from tensorflow import keras\n",
    "import utils\n",
    "import constants\n",
    "import chess\n",
    "import chess.pgn\n",
    "import numpy as np\n",
    "import os\n",
    "import random"
   ]
  },
  {
   "cell_type": "markdown",
   "metadata": {},
   "source": [
    "Data files: 1 - 27\n",
    " - each has 1 000 000 rows\n",
    " - treat 1 - 25 as training data\n",
    " - 26 as final test data\n",
    " - 27 as validation data after training is completed (for preliminary comparisons)"
   ]
  },
  {
   "cell_type": "code",
   "execution_count": 2,
   "metadata": {},
   "outputs": [
    {
     "name": "stdout",
     "output_type": "stream",
     "text": [
      "proccessing file 1\n",
      "proccessing file 2\n",
      "proccessing file 3\n",
      "proccessing file 4\n",
      "proccessing file 5\n"
     ]
    }
   ],
   "source": [
    "def split_pgn():\n",
    "    pgn_files = [f\"data/chessgames20{i}.pgn\" for i in range(16, 22)]\n",
    "    outcomes = {\"1\":1.0, \"1/2\":0.5, \"0\":0.0}\n",
    "    df = []\n",
    "    file_counter = 1\n",
    "    for pgn_file in pgn_files:\n",
    "        print(f\"{pgn_file = }\")\n",
    "        with open(pgn_file, \"r\") as f:\n",
    "            game = chess.pgn.read_game(f)\n",
    "            while game != None:\n",
    "                result = game.headers[\"Result\"].split(\"-\")\n",
    "                result = outcomes[result[0]]  # 1 if white wins 0 if black wins 0.5 if stalemate\n",
    "                board = game.board()\n",
    "                for move in game.mainline_moves():\n",
    "                    df.append({\"board\":board.fen(), \"move\":constants.uci_moves[move.uci()], \"outcome\":result})\n",
    "                    board.push(move)\n",
    "                if len(df) >= 1000000:\n",
    "                    df = pd.DataFrame(df)\n",
    "                    df.to_csv(f\"data/split/chess{file_counter}.csv\", index=False)\n",
    "                    file_counter += 1\n",
    "                    df = []\n",
    "                game = chess.pgn.read_game(f)\n",
    "\n",
    "def shuffle_csv(rounds = 10, batch_size=10):\n",
    "    files = [f\"data/split/chess{i}.csv\" for i in range(1, 27)]\n",
    "    n_rows = 1000000\n",
    "    leftover = pd.DataFrame([], columns=[\"board\", \"move\", \"outcome\"])\n",
    "    for i in range(rounds):\n",
    "        print(f\"round {i+1}/{rounds}\")\n",
    "        picked_files = random.sample(files, batch_size)\n",
    "        df = pd.DataFrame([], columns=[\"board\", \"move\", \"outcome\"])\n",
    "        for file in picked_files:\n",
    "            df = pd.concat([df, pd.read_csv(file)], ignore_index=True)\n",
    "        df = df.sample(frac=1)\n",
    "        for n, file in enumerate(picked_files):\n",
    "            df.iloc[(n_rows*n):(n_rows*(n+1)), :].to_csv(file, index=False)\n",
    "        leftover = pd.concat([leftover, df.iloc[(n_rows*(n+1)):, :]])\n",
    "    leftover = leftover.sample(frac=1)\n",
    "    for i in range(len(leftover)//n_rows+1):\n",
    "        leftover.iloc[(n_rows*i):(n_rows*(i+1))].to_csv(f\"data/split/chess{27+i}.csv\", index=False)\n",
    "\n",
    "def process_df(df):\n",
    "    obs = df[\"board\"].map(utils.parse_fen)\n",
    "    df[\"obs_board\"] = obs.map(lambda x: x[:64])\n",
    "    df[\"obs_misc\"] = obs.map(lambda x: x[64:])\n",
    "    return df\n",
    "\n",
    "def process_file(file_numbers):\n",
    "    for n in file_numbers:\n",
    "        print(f\"proccessing file {n}\")\n",
    "        df = pd.read_csv(f\"data/split/chess{n}.csv\")\n",
    "        df = process_df(df)\n",
    "        df.to_pickle(f\"data/split/processed/chess{n}.pkl\")\n",
    "# split_pgn()\n",
    "# shuffle_csv()\n",
    "# process_file([1, 2, 3, 4, 5])"
   ]
  },
  {
   "cell_type": "code",
   "execution_count": 3,
   "metadata": {},
   "outputs": [],
   "source": [
    "def restrict_legal(move_arr, fen):\n",
    "    ''' Restricts the move probability array to only legal moves and rescale remaining legal move probabilities '''\n",
    "    board = chess.Board(fen)\n",
    "    legal_arr = np.zeros(constants.LEN_UCI_MOVES, dtype=np.int16)\n",
    "    for move in board.legal_moves:\n",
    "        legal_arr[constants.uci_moves[move.uci()]] = 1\n",
    "    for i in range(constants.LEN_UCI_MOVES):\n",
    "        if legal_arr[i] == 0:\n",
    "            move_arr[i] = 0\n",
    "    return move_arr / np.sum(move_arr)"
   ]
  },
  {
   "cell_type": "code",
   "execution_count": 4,
   "metadata": {},
   "outputs": [],
   "source": [
    "def train_model(model, data_dir=\"data/split/\", n_files=25, epochs=1, ckpt_dir=\"ckpt/actor\"):\n",
    "\n",
    "    file_order = list(range(1, n_files+1))\n",
    "\n",
    "    if not os.path.exists(ckpt_dir):\n",
    "        os.mkdir(ckpt_dir)\n",
    "    if not os.path.exists(utils.path_join(ckpt_dir, model.name)):\n",
    "        os.mkdir(utils.path_join(ckpt_dir, model.name))\n",
    "\n",
    "    checkpoints = [utils.path_join(ckpt_dir, model.name, name) for name in os.listdir(utils.path_join(ckpt_dir, model.name))]\n",
    "    if checkpoints:\n",
    "        latest_checkpoint = max(checkpoints, key=os.path.getctime)\n",
    "        print(\"Restoring from\", latest_checkpoint)\n",
    "        model = keras.models.load_model(latest_checkpoint)\n",
    "        n = latest_checkpoint.split(\"-\")[-1][0]\n",
    "    else:\n",
    "        n = 0\n",
    "\n",
    "    processed_files = [filename.split(\".\")[0] for filename in os.listdir(utils.path_join(data_dir, \"processed\"))]\n",
    "    for file in file_order:\n",
    "        if file <= int(n):\n",
    "            continue\n",
    "        filename = f\"chess{file}\"\n",
    "        print(f\"Training on file {filename}\")\n",
    "\n",
    "        # load data from .csv file\n",
    "        if filename in processed_files:\n",
    "            df = pd.read_pickle(utils.path_join(data_dir, \"processed\", filename + \".pkl\"))\n",
    "        else:\n",
    "            df = pd.read_csv(utils.path_join(data_dir, filename + \".csv\"))\n",
    "\n",
    "            # translate from fen to obs arr\n",
    "            print(\"Processing...\", end=\"\")\n",
    "            df = process_df(df)\n",
    "            print(\"complete\")\n",
    "\n",
    "        # convert to numpy arrays\n",
    "        x = {\"board\": np.array(df[\"obs_board\"].values.tolist()), \"misc\": np.array(df[\"obs_misc\"].values.tolist())}\n",
    "        y = df[\"move\"].values\n",
    "\n",
    "        # train\n",
    "        model.fit(x, y, batch_size=64, epochs=epochs, validation_split=0.1)\n",
    "\n",
    "        # save checkpoint between files\n",
    "        model.save(utils.path_join(ckpt_dir, model.name, f\"{model.name}-{file}.h5\"))\n",
    "    print(f\"Training completed. Final save file: {utils.path_join(ckpt_dir, model.name, f'{model.name}-{file}.h5')}\")"
   ]
  },
  {
   "cell_type": "code",
   "execution_count": 7,
   "metadata": {},
   "outputs": [],
   "source": [
    "def evaluate_model(model_names, data=\"validation\", data_dir=\"data/split/\", ckpt_dir=\"ckpt/actor\", metric=\"sparse_categorical_accuracy\"):\n",
    "\n",
    "    models = []\n",
    "    for model_name in model_names:\n",
    "        checkpoints = [utils.path_join(ckpt_dir, model_name, name) for name in os.listdir(utils.path_join(ckpt_dir, model_name))]\n",
    "        if checkpoints:\n",
    "            latest_checkpoint = max(checkpoints, key=os.path.getctime)\n",
    "            print(\"Restoring from\", latest_checkpoint)\n",
    "            model = keras.models.load_model(latest_checkpoint)\n",
    "            models.append(model)\n",
    "        else:\n",
    "            print(\"No checkpoint available\")\n",
    "\n",
    "    # load data\n",
    "    if data == \"validation\":\n",
    "        df = pd.read_csv(utils.path_join(data_dir, \"chess25.csv\"))\n",
    "    elif data == \"test\":\n",
    "        df = pd.read_csv(utils.path_join(data_dir, \"chess26.csv\"))\n",
    "    \n",
    "    # convert fen to obs\n",
    "    print(\"Processing...\", end=\"\")\n",
    "    df = process_df(df)\n",
    "    print(\"complete\")\n",
    "\n",
    "    # convert to numpy arrays\n",
    "    x = {\"board\": np.array(df[\"obs_board\"].values.tolist()), \"misc\": np.array(df[\"obs_misc\"].values.tolist())}\n",
    "    y = data[\"move\"].values\n",
    "\n",
    "    performance = []\n",
    "    for model_name, model in zip(model_names, models):\n",
    "        performance.append([model_name, model.evaluate(x, y, batch_size=128, return_dict=True)[metric]])\n",
    "\n",
    "    return pd.DataFrame(performance, columns=[\"model_name\", metric])"
   ]
  },
  {
   "cell_type": "code",
   "execution_count": 6,
   "metadata": {},
   "outputs": [
    {
     "name": "stdout",
     "output_type": "stream",
     "text": [
      "Restoring from ckpt/actor/co360_cl5_cs100_d0/co360_cl5_cs100_d0-4.h5\n",
      "Training on file chess5\n"
     ]
    },
    {
     "name": "stderr",
     "output_type": "stream",
     "text": [
      "2022-09-25 18:51:30.513158: W tensorflow/core/platform/profile_utils/cpu_utils.cc:128] Failed to get CPU frequency: 0 Hz\n"
     ]
    },
    {
     "name": "stdout",
     "output_type": "stream",
     "text": [
      "14063/14063 [==============================] - 573s 41ms/step - loss: 3.0828 - sparse_categorical_accuracy: 0.2602 - val_loss: 3.0643 - val_sparse_categorical_accuracy: 0.2645\n",
      "Training completed. Final save file: ckpt/actor/co360_cl5_cs100_d0/co360_cl5_cs100_d0-5.h5\n"
     ]
    }
   ],
   "source": []
  },
  {
   "cell_type": "code",
   "execution_count": 8,
   "metadata": {},
   "outputs": [
    {
     "name": "stdout",
     "output_type": "stream",
     "text": [
      "Restoring from ckpt/actor/co256_cl4_d0/co256_cl4_d0-5.h5\n",
      "Restoring from ckpt/actor/co256_cl5_d0/co256_cl5_d0-5.h5\n"
     ]
    },
    {
     "name": "stderr",
     "output_type": "stream",
     "text": [
      "/Users/kenngkz/.pyenv/versions/3.10.5/envs/chess-ai/lib/python3.10/site-packages/keras/layers/core/lambda_layer.py:303: UserWarning: tf_models.conv2d_seq is not loaded, but a Lambda layer uses it. It may cause errors.\n",
      "  function = cls._parse_function_from_config(config, custom_objects,\n"
     ]
    },
    {
     "name": "stdout",
     "output_type": "stream",
     "text": [
      "Restoring from ckpt/actor/co300_cl4_d0/co300_cl4_d0-5.h5\n",
      "Restoring from ckpt/actor/co256_cl4_cs80_d0/co256_cl4_cs80_d0-5.h5\n",
      "Restoring from ckpt/actor/co360_cl5_cs100_d0/co360_cl5_cs100_d0-5.h5\n",
      "Processing..."
     ]
    },
    {
     "ename": "KeyboardInterrupt",
     "evalue": "",
     "output_type": "error",
     "traceback": [
      "\u001b[0;31m---------------------------------------------------------------------------\u001b[0m",
      "\u001b[0;31mKeyboardInterrupt\u001b[0m                         Traceback (most recent call last)",
      "\u001b[1;32m/Users/kenngkz/Desktop/Coding/chess-ai/ai.ipynb Cell 8\u001b[0m in \u001b[0;36m<cell line: 2>\u001b[0;34m()\u001b[0m\n\u001b[1;32m      <a href='vscode-notebook-cell:/Users/kenngkz/Desktop/Coding/chess-ai/ai.ipynb#X10sZmlsZQ%3D%3D?line=0'>1</a>\u001b[0m models \u001b[39m=\u001b[39m [\u001b[39m\"\u001b[39m\u001b[39mco256_cl4_d0\u001b[39m\u001b[39m\"\u001b[39m, \u001b[39m\"\u001b[39m\u001b[39mco256_cl5_d0\u001b[39m\u001b[39m\"\u001b[39m, \u001b[39m\"\u001b[39m\u001b[39mco300_cl4_d0\u001b[39m\u001b[39m\"\u001b[39m, \u001b[39m\"\u001b[39m\u001b[39mco256_cl4_cs80_d0\u001b[39m\u001b[39m\"\u001b[39m, \u001b[39m\"\u001b[39m\u001b[39mco360_cl5_cs100_d0\u001b[39m\u001b[39m\"\u001b[39m]\n\u001b[0;32m----> <a href='vscode-notebook-cell:/Users/kenngkz/Desktop/Coding/chess-ai/ai.ipynb#X10sZmlsZQ%3D%3D?line=1'>2</a>\u001b[0m results \u001b[39m=\u001b[39m evaluate_model(models)\n\u001b[1;32m      <a href='vscode-notebook-cell:/Users/kenngkz/Desktop/Coding/chess-ai/ai.ipynb#X10sZmlsZQ%3D%3D?line=2'>3</a>\u001b[0m results\n",
      "\u001b[1;32m/Users/kenngkz/Desktop/Coding/chess-ai/ai.ipynb Cell 8\u001b[0m in \u001b[0;36mevaluate_model\u001b[0;34m(model_names, data, data_dir, ckpt_dir, metric)\u001b[0m\n\u001b[1;32m     <a href='vscode-notebook-cell:/Users/kenngkz/Desktop/Coding/chess-ai/ai.ipynb#X10sZmlsZQ%3D%3D?line=19'>20</a>\u001b[0m \u001b[39m# convert fen to obs\u001b[39;00m\n\u001b[1;32m     <a href='vscode-notebook-cell:/Users/kenngkz/Desktop/Coding/chess-ai/ai.ipynb#X10sZmlsZQ%3D%3D?line=20'>21</a>\u001b[0m \u001b[39mprint\u001b[39m(\u001b[39m\"\u001b[39m\u001b[39mProcessing...\u001b[39m\u001b[39m\"\u001b[39m, end\u001b[39m=\u001b[39m\u001b[39m\"\u001b[39m\u001b[39m\"\u001b[39m)\n\u001b[0;32m---> <a href='vscode-notebook-cell:/Users/kenngkz/Desktop/Coding/chess-ai/ai.ipynb#X10sZmlsZQ%3D%3D?line=21'>22</a>\u001b[0m df \u001b[39m=\u001b[39m process_df(df)\n\u001b[1;32m     <a href='vscode-notebook-cell:/Users/kenngkz/Desktop/Coding/chess-ai/ai.ipynb#X10sZmlsZQ%3D%3D?line=22'>23</a>\u001b[0m \u001b[39mprint\u001b[39m(\u001b[39m\"\u001b[39m\u001b[39mcomplete\u001b[39m\u001b[39m\"\u001b[39m)\n\u001b[1;32m     <a href='vscode-notebook-cell:/Users/kenngkz/Desktop/Coding/chess-ai/ai.ipynb#X10sZmlsZQ%3D%3D?line=24'>25</a>\u001b[0m \u001b[39m# convert to numpy arrays\u001b[39;00m\n",
      "\u001b[1;32m/Users/kenngkz/Desktop/Coding/chess-ai/ai.ipynb Cell 8\u001b[0m in \u001b[0;36mprocess_df\u001b[0;34m(df)\u001b[0m\n\u001b[1;32m     <a href='vscode-notebook-cell:/Users/kenngkz/Desktop/Coding/chess-ai/ai.ipynb#X10sZmlsZQ%3D%3D?line=41'>42</a>\u001b[0m \u001b[39mdef\u001b[39;00m \u001b[39mprocess_df\u001b[39m(df):\n\u001b[0;32m---> <a href='vscode-notebook-cell:/Users/kenngkz/Desktop/Coding/chess-ai/ai.ipynb#X10sZmlsZQ%3D%3D?line=42'>43</a>\u001b[0m     obs \u001b[39m=\u001b[39m df[\u001b[39m\"\u001b[39;49m\u001b[39mboard\u001b[39;49m\u001b[39m\"\u001b[39;49m]\u001b[39m.\u001b[39;49mmap(utils\u001b[39m.\u001b[39;49mparse_fen)\n\u001b[1;32m     <a href='vscode-notebook-cell:/Users/kenngkz/Desktop/Coding/chess-ai/ai.ipynb#X10sZmlsZQ%3D%3D?line=43'>44</a>\u001b[0m     df[\u001b[39m\"\u001b[39m\u001b[39mobs_board\u001b[39m\u001b[39m\"\u001b[39m] \u001b[39m=\u001b[39m obs\u001b[39m.\u001b[39mmap(\u001b[39mlambda\u001b[39;00m x: x[:\u001b[39m64\u001b[39m])\n\u001b[1;32m     <a href='vscode-notebook-cell:/Users/kenngkz/Desktop/Coding/chess-ai/ai.ipynb#X10sZmlsZQ%3D%3D?line=44'>45</a>\u001b[0m     df[\u001b[39m\"\u001b[39m\u001b[39mobs_misc\u001b[39m\u001b[39m\"\u001b[39m] \u001b[39m=\u001b[39m obs\u001b[39m.\u001b[39mmap(\u001b[39mlambda\u001b[39;00m x: x[\u001b[39m64\u001b[39m:])\n",
      "File \u001b[0;32m~/.pyenv/versions/3.10.5/envs/chess-ai/lib/python3.10/site-packages/pandas/core/series.py:4237\u001b[0m, in \u001b[0;36mSeries.map\u001b[0;34m(self, arg, na_action)\u001b[0m\n\u001b[1;32m   4162\u001b[0m \u001b[39mdef\u001b[39;00m \u001b[39mmap\u001b[39m(\u001b[39mself\u001b[39m, arg, na_action\u001b[39m=\u001b[39m\u001b[39mNone\u001b[39;00m) \u001b[39m-\u001b[39m\u001b[39m>\u001b[39m Series:\n\u001b[1;32m   4163\u001b[0m     \u001b[39m\"\"\"\u001b[39;00m\n\u001b[1;32m   4164\u001b[0m \u001b[39m    Map values of Series according to an input mapping or function.\u001b[39;00m\n\u001b[1;32m   4165\u001b[0m \n\u001b[0;32m   (...)\u001b[0m\n\u001b[1;32m   4235\u001b[0m \u001b[39m    dtype: object\u001b[39;00m\n\u001b[1;32m   4236\u001b[0m \u001b[39m    \"\"\"\u001b[39;00m\n\u001b[0;32m-> 4237\u001b[0m     new_values \u001b[39m=\u001b[39m \u001b[39mself\u001b[39;49m\u001b[39m.\u001b[39;49m_map_values(arg, na_action\u001b[39m=\u001b[39;49mna_action)\n\u001b[1;32m   4238\u001b[0m     \u001b[39mreturn\u001b[39;00m \u001b[39mself\u001b[39m\u001b[39m.\u001b[39m_constructor(new_values, index\u001b[39m=\u001b[39m\u001b[39mself\u001b[39m\u001b[39m.\u001b[39mindex)\u001b[39m.\u001b[39m__finalize__(\n\u001b[1;32m   4239\u001b[0m         \u001b[39mself\u001b[39m, method\u001b[39m=\u001b[39m\u001b[39m\"\u001b[39m\u001b[39mmap\u001b[39m\u001b[39m\"\u001b[39m\n\u001b[1;32m   4240\u001b[0m     )\n",
      "File \u001b[0;32m~/.pyenv/versions/3.10.5/envs/chess-ai/lib/python3.10/site-packages/pandas/core/base.py:880\u001b[0m, in \u001b[0;36mIndexOpsMixin._map_values\u001b[0;34m(self, mapper, na_action)\u001b[0m\n\u001b[1;32m    877\u001b[0m         \u001b[39mraise\u001b[39;00m \u001b[39mValueError\u001b[39;00m(msg)\n\u001b[1;32m    879\u001b[0m \u001b[39m# mapper is a function\u001b[39;00m\n\u001b[0;32m--> 880\u001b[0m new_values \u001b[39m=\u001b[39m map_f(values, mapper)\n\u001b[1;32m    882\u001b[0m \u001b[39mreturn\u001b[39;00m new_values\n",
      "File \u001b[0;32m~/.pyenv/versions/3.10.5/envs/chess-ai/lib/python3.10/site-packages/pandas/_libs/lib.pyx:2870\u001b[0m, in \u001b[0;36mpandas._libs.lib.map_infer\u001b[0;34m()\u001b[0m\n",
      "File \u001b[0;32m~/Desktop/Coding/chess-ai/utils.py:88\u001b[0m, in \u001b[0;36mparse_fen\u001b[0;34m(fen)\u001b[0m\n\u001b[1;32m     85\u001b[0m         obs[\u001b[39m68\u001b[39m] \u001b[39m=\u001b[39m \u001b[39m1\u001b[39m\n\u001b[1;32m     87\u001b[0m \u001b[39m# under_check status\u001b[39;00m\n\u001b[0;32m---> 88\u001b[0m board \u001b[39m=\u001b[39m pychess\u001b[39m.\u001b[39;49mBoard(fen)\n\u001b[1;32m     89\u001b[0m obs[\u001b[39m69\u001b[39m] \u001b[39m=\u001b[39m \u001b[39mint\u001b[39m(board\u001b[39m.\u001b[39mis_check())\n\u001b[1;32m     91\u001b[0m \u001b[39mreturn\u001b[39;00m obs\n",
      "File \u001b[0;32m~/.pyenv/versions/3.10.5/envs/chess-ai/lib/python3.10/site-packages/chess/__init__.py:1555\u001b[0m, in \u001b[0;36mBoard.__init__\u001b[0;34m(self, fen, chess960)\u001b[0m\n\u001b[1;32m   1553\u001b[0m     \u001b[39mself\u001b[39m\u001b[39m.\u001b[39mreset()\n\u001b[1;32m   1554\u001b[0m \u001b[39melse\u001b[39;00m:\n\u001b[0;32m-> 1555\u001b[0m     \u001b[39mself\u001b[39;49m\u001b[39m.\u001b[39;49mset_fen(fen)\n",
      "File \u001b[0;32m~/.pyenv/versions/3.10.5/envs/chess-ai/lib/python3.10/site-packages/chess/__init__.py:2493\u001b[0m, in \u001b[0;36mBoard.set_fen\u001b[0;34m(self, fen)\u001b[0m\n\u001b[1;32m   2490\u001b[0m     \u001b[39mraise\u001b[39;00m \u001b[39mValueError\u001b[39;00m(\u001b[39mf\u001b[39m\u001b[39m\"\u001b[39m\u001b[39mfen string has more parts than expected: \u001b[39m\u001b[39m{\u001b[39;00mfen\u001b[39m!r}\u001b[39;00m\u001b[39m\"\u001b[39m)\n\u001b[1;32m   2492\u001b[0m \u001b[39m# Validate the board part and set it.\u001b[39;00m\n\u001b[0;32m-> 2493\u001b[0m \u001b[39mself\u001b[39;49m\u001b[39m.\u001b[39;49m_set_board_fen(board_part)\n\u001b[1;32m   2495\u001b[0m \u001b[39m# Apply.\u001b[39;00m\n\u001b[1;32m   2496\u001b[0m \u001b[39mself\u001b[39m\u001b[39m.\u001b[39mturn \u001b[39m=\u001b[39m turn\n",
      "File \u001b[0;32m~/.pyenv/versions/3.10.5/envs/chess-ai/lib/python3.10/site-packages/chess/__init__.py:997\u001b[0m, in \u001b[0;36mBaseBoard._set_board_fen\u001b[0;34m(self, fen)\u001b[0m\n\u001b[1;32m    995\u001b[0m     previous_was_digit \u001b[39m=\u001b[39m \u001b[39mFalse\u001b[39;00m\n\u001b[1;32m    996\u001b[0m     previous_was_piece \u001b[39m=\u001b[39m \u001b[39mFalse\u001b[39;00m\n\u001b[0;32m--> 997\u001b[0m \u001b[39melif\u001b[39;00m c\u001b[39m.\u001b[39;49mlower() \u001b[39min\u001b[39;00m PIECE_SYMBOLS:\n\u001b[1;32m    998\u001b[0m     field_sum \u001b[39m+\u001b[39m\u001b[39m=\u001b[39m \u001b[39m1\u001b[39m\n\u001b[1;32m    999\u001b[0m     previous_was_digit \u001b[39m=\u001b[39m \u001b[39mFalse\u001b[39;00m\n",
      "\u001b[0;31mKeyboardInterrupt\u001b[0m: "
     ]
    }
   ],
   "source": [
    "models = [\"co256_cl4_d0\", \"co256_cl5_d0\", \"co300_cl4_d0\", \"co256_cl4_cs80_d0\", \"co360_cl5_cs100_d0\"]\n",
    "results = evaluate_model(models)\n",
    "results"
   ]
  }
 ],
 "metadata": {
  "kernelspec": {
   "display_name": "Python 3.10.5 64-bit ('chess-ai')",
   "language": "python",
   "name": "python3"
  },
  "language_info": {
   "codemirror_mode": {
    "name": "ipython",
    "version": 3
   },
   "file_extension": ".py",
   "mimetype": "text/x-python",
   "name": "python",
   "nbconvert_exporter": "python",
   "pygments_lexer": "ipython3",
   "version": "3.10.11"
  },
  "orig_nbformat": 4,
  "vscode": {
   "interpreter": {
    "hash": "5b6482292139e81a4c390b61f9abeeeb497a34aaede834f7065ff9959c827cc3"
   }
  }
 },
 "nbformat": 4,
 "nbformat_minor": 2
}
