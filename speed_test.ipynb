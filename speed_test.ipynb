{
 "cells": [
  {
   "cell_type": "code",
   "execution_count": 2,
   "source": [
    "import numpy as np\r\n",
    "from numba import njit\r\n",
    "import pickle\r\n",
    "\r\n",
    "from time import perf_counter as ttt"
   ],
   "outputs": [],
   "metadata": {}
  },
  {
   "cell_type": "code",
   "execution_count": 3,
   "source": [
    "class Piece:\r\n",
    "\r\n",
    "    def __init__(self, board: Board, coor, piece_index, castle=None):\r\n",
    "            # castle format [bool, bool] -- queen, king\r\n",
    "        self.board_obj = board\r\n",
    "        self.coor = coor\r\n",
    "        self.p_index = piece_index\r\n",
    "        self.side = 1 if piece_index > 0 else -1\r\n",
    "        if castle != None:\r\n",
    "            self.castle = castle\r\n",
    "        self.get_move_range()\r\n",
    "        \r\n",
    "    def get_move_range(self):\r\n",
    "        with open('move_range.pkl', 'rb') as f:\r\n",
    "            move_range = pickle.load(f)\r\n",
    "        self.move_range = move_range[self.coor][self.p_index]"
   ],
   "outputs": [],
   "metadata": {}
  },
  {
   "cell_type": "code",
   "execution_count": 4,
   "source": [
    "ini_board = np.array([\r\n",
    "    [-4,-2,-3,-5,-6,-3,-2,-4],\r\n",
    "    [-1,-1,-1,-1,-1,-1,-1,-1],\r\n",
    "    [ 0, 0, 0, 0, 0, 0, 0, 0],\r\n",
    "    [ 0, 0, 0, 0, 0, 0, 0, 0],\r\n",
    "    [ 0, 0, 0, 0, 0, 0, 0, 0],\r\n",
    "    [ 0, 0, 0, 0, 0, 0, 0, 0],\r\n",
    "    [ 1, 1, 1, 1, 1, 1, 1, 1],\r\n",
    "    [ 4, 2, 3, 5, 6, 3, 2, 4], \r\n",
    "])\r\n",
    "\r\n",
    "empty_board = np.array([\r\n",
    "    [ 0, 0, 0, 0, 0, 0, 0, 0],\r\n",
    "    [ 0, 0, 0, 0, 0, 0, 0, 0],\r\n",
    "    [ 0, 0, 0, 0, 0, 0, 0, 0],\r\n",
    "    [ 0, 0, 0, 0, 0, 0, 0, 0],\r\n",
    "    [ 0, 0, 0, 0, 0, 0, 0, 0],\r\n",
    "    [ 0, 0, 0, 0, 0, 0, 0, 0],\r\n",
    "    [ 0, 0, 0, 0, 0, 0, 0, 0],\r\n",
    "    [ 0, 0, 0, 0, 0, 0, 0, 0]\r\n",
    "])"
   ],
   "outputs": [],
   "metadata": {}
  },
  {
   "cell_type": "markdown",
   "source": [
    "# BOARD"
   ],
   "metadata": {}
  },
  {
   "cell_type": "code",
   "execution_count": null,
   "source": [
    "class Board:\r\n",
    "    legal_moves = {}  # should not be class attr, should be instance attr\r\n",
    "    all_legal_dest = []\r\n",
    "\r\n",
    "    def __init__(self, board_arr):\r\n",
    "        self.board_arr = board_arr\r\n",
    "        self.gen_pieces()\r\n",
    "    \r\n",
    "    def gen_pieces(self):\r\n",
    "        self.grid = {}\r\n",
    "        self.king_coors = {}\r\n",
    "        for row in range(8):\r\n",
    "            for col in range(8):\r\n",
    "                coor = (row, col)\r\n",
    "                piece = self.board_arr[coor]\r\n",
    "                # print(coor)\r\n",
    "                # print(piece)\r\n",
    "                # if abs(piece) == 1:\r\n",
    "                #     self.grid[coor] = Pawn(self, coor, piece)\r\n",
    "                # elif abs(piece) == 2:\r\n",
    "                #     self.grid[coor] = Knight(self, coor, int(piece/2))\r\n",
    "                # elif abs(piece) == 3:\r\n",
    "                #     self.grid[coor] = Bishop(self, coor, int(piece/3))\r\n",
    "                # elif abs(piece) == 4:\r\n",
    "                #     self.grid[coor] = Rook(self, coor, int(piece/4))\r\n",
    "                # elif abs(piece) == 5:\r\n",
    "                #     self.grid[coor] = Queen(self, coor, int(piece/5))\r\n",
    "                # elif abs(piece) == 6:\r\n",
    "                #     self.grid[coor] = King(self, coor, int(piece/6))\r\n",
    "                #     self.king_coors[piece] = coor\r\n",
    "                # else:\r\n",
    "                #     self.grid[coor] = EmptyCell()\r\n",
    "                self.grid[coor] = Test(self, coor, piece)\r\n",
    "\r\n",
    "    def get_grid_side(self, coor):\r\n",
    "        try:\r\n",
    "            return self.grid[coor].side\r\n",
    "        except:\r\n",
    "            pass\r\n",
    "\r\n",
    "    def get_grid_obj(self, coor):\r\n",
    "        try:\r\n",
    "            return self.grid[coor]\r\n",
    "        except:\r\n",
    "            pass\r\n",
    "\r\n",
    "    def gen_all_legal(self):\r\n",
    "        pass\r\n",
    "\r\n",
    "    def is_check(self, side):\r\n",
    "        # get ally king coor\r\n",
    "        king_coor = self.king_coors[side*6]\r\n",
    "        # check if all opponent legal_moves includes king position"
   ],
   "outputs": [],
   "metadata": {}
  },
  {
   "cell_type": "markdown",
   "source": [
    "# GEN_LEGAL"
   ],
   "metadata": {}
  },
  {
   "cell_type": "code",
   "execution_count": null,
   "source": [
    "# gen legal with numba and numpy\r\n",
    "class Test(Piece):\r\n",
    "\r\n",
    "    def __init__(self, board:Board, coor:tuple, side:int):\r\n",
    "        super().__init__(board, coor, side)\r\n",
    "\r\n",
    "    @njit\r\n",
    "    def run1(self, board_pieces):\r\n",
    "        mask = np.full(4, False, dtype=np.bool_)\r\n",
    "        if self.board.get_grid_side(self.move_range[0]) == None:\r\n",
    "            mask[0] = True\r\n",
    "        if len(self.move_range) == 4 and self.board.get_grid_side(self.move_range[1]) == None:\r\n",
    "            mask[1] = True\r\n",
    "        try:\r\n",
    "            if np.sign(board_pieces[self.move_range[-2]]) == -self.side:\r\n",
    "                mask[2] = True\r\n",
    "        except:\r\n",
    "            pass\r\n",
    "        try:\r\n",
    "            if np.sign(board_pieces[self.move_range[-1]]) == -self.side:\r\n",
    "                mask[3] = True\r\n",
    "        except:\r\n",
    "            pass\r\n",
    "        return self.move_range[mask]\r\n",
    "\r\n",
    "    def run2(self, board_pieces):\r\n",
    "        dest = []\r\n",
    "        # default move\r\n",
    "        if self.move_range[0] not in board_pieces:\r\n",
    "            dest.append(self.move_range[0])\r\n",
    "        # first jump\r\n",
    "        if len(self.move_range) == 4 and self.move_range[1] not in board_pieces:\r\n",
    "            dest.append(self.move_range[1])\r\n",
    "        # left capture\r\n",
    "        try:\r\n",
    "            if np.sign(board_pieces[self.move_range[-2]]) == -self.side:\r\n",
    "                dest.append(self.move_range[-2])\r\n",
    "        except:\r\n",
    "            pass\r\n",
    "        # right capture\r\n",
    "        try:\r\n",
    "            if np.sign(board_pieces[self.move_range[-1]]) == -self.side:\r\n",
    "                dest.append(self.move_range[-1])\r\n",
    "        except:\r\n",
    "            pass\r\n",
    "        return dest"
   ],
   "outputs": [],
   "metadata": {}
  },
  {
   "cell_type": "code",
   "execution_count": null,
   "source": [
    "# Speed Test\r\n",
    "piece_coor = (1,0)\r\n",
    "side = -1\r\n",
    "test = Test(ini_board, piece_coor, side)\r\n",
    "board_pieces = \r\n",
    "\r\n",
    "start = ttt\r\n",
    "for _ in range(10000):\r\n",
    "    test.run1()"
   ],
   "outputs": [],
   "metadata": {}
  },
  {
   "cell_type": "code",
   "execution_count": 1,
   "source": [
    "test = None\r\n",
    "test == -1"
   ],
   "outputs": [
    {
     "output_type": "execute_result",
     "data": {
      "text/plain": [
       "False"
      ]
     },
     "metadata": {},
     "execution_count": 1
    }
   ],
   "metadata": {}
  }
 ],
 "metadata": {
  "orig_nbformat": 4,
  "language_info": {
   "name": "python",
   "version": "3.8.3",
   "mimetype": "text/x-python",
   "codemirror_mode": {
    "name": "ipython",
    "version": 3
   },
   "pygments_lexer": "ipython3",
   "nbconvert_exporter": "python",
   "file_extension": ".py"
  },
  "kernelspec": {
   "name": "python3",
   "display_name": "Python 3.7.10 64-bit ('chess_app': conda)"
  },
  "interpreter": {
   "hash": "5cee0045c93b03fae7efe4c18f9d9ed315e1cdac341505bf25d8fa06a3d013c2"
  }
 },
 "nbformat": 4,
 "nbformat_minor": 2
}