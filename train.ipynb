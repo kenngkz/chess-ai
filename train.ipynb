{
 "cells": [
  {
   "cell_type": "code",
   "execution_count": 1,
   "metadata": {},
   "outputs": [],
   "source": [
    "import os\n",
    "import numpy as np\n",
    "import pandas as pd\n",
    "import tensorflow as tf\n",
    "\n",
    "import utils\n",
    "import constants"
   ]
  },
  {
   "cell_type": "code",
   "execution_count": 2,
   "metadata": {},
   "outputs": [],
   "source": [
    "def train_model(actor_model, critic_model, data_dir=\"data/split/\", n_files=25, epochs=1, ckpt_dir=\"ckpt/aunty\"):\n",
    "\n",
    "    file_order = list(range(1, n_files+1))\n",
    "\n",
    "    if not os.path.exists(ckpt_dir):\n",
    "        os.mkdir(ckpt_dir)\n",
    "    if not os.path.exists(utils.path_join(ckpt_dir, model.name)):\n",
    "        os.mkdir(utils.path_join(ckpt_dir, model.name))\n",
    "\n",
    "    checkpoints = [utils.path_join(ckpt_dir, model.name, name) for name in os.listdir(utils.path_join(ckpt_dir, model.name))]\n",
    "    if checkpoints:\n",
    "        latest_checkpoint = max(checkpoints, key=os.path.getctime)\n",
    "        print(\"Restoring from\", latest_checkpoint)\n",
    "        model = tf.keras.models.load_model(latest_checkpoint)\n",
    "        n = latest_checkpoint.split(\"-\")[-1][0]\n",
    "    else:\n",
    "        n = 0\n",
    "\n",
    "    processed_files = [filename.split(\".\")[0] for filename in os.listdir(utils.path_join(data_dir, \"processed\"))]\n",
    "    for file in file_order:\n",
    "        if file <= int(n):\n",
    "            continue\n",
    "        filename = f\"chess{file}\"\n",
    "        print(f\"Training on file {filename}\")\n",
    "\n",
    "        # load data from .csv file\n",
    "        if filename in processed_files:\n",
    "            df = pd.read_pickle(utils.path_join(data_dir, \"processed\", filename + \".pkl\"))\n",
    "        else:\n",
    "            df = pd.read_csv(utils.path_join(data_dir, filename + \".csv\"))\n",
    "\n",
    "            # translate from fen to obs arr\n",
    "            print(\"Processing...\", end=\"\")\n",
    "            df.loc[:, \"obs\"] = df.loc[:, \"board\"].map(utils.parse_fen)\n",
    "            print(\"complete\")\n",
    "\n",
    "        # convert to numpy arrays\n",
    "        x = {\n",
    "            \"board\": tf.keras.utils.to_categorical(np.array(df[\"obs_board\"].values.tolist()), num_classes=13), \n",
    "            \"misc\":np.array(df[\"obs_misc\"].values.tolist())\n",
    "        }\n",
    "        y = {\"actor\":df[\"move\"].values, \"critic\":df[\"outcome\"].values}\n",
    "\n",
    "        # train\n",
    "        model.fit(x, y, batch_size=64, epochs=epochs, validation_split=0.1)\n",
    "\n",
    "        # save checkpoint between files\n",
    "        model.save(utils.path_join(ckpt_dir, model.name, f\"{model.name}-{file}.h5\"))\n",
    "    print(f\"Training completed. Final save file: {utils.path_join(ckpt_dir, model.name, f'{model.name}-{file}.h5')}\")"
   ]
  },
  {
   "cell_type": "code",
   "execution_count": 9,
   "metadata": {},
   "outputs": [],
   "source": [
    "# critic\n",
    "activation = \"relu\"\n",
    "board_input = tf.keras.Input(shape=(64, 13), name=\"board\")\n",
    "misc_input = tf.keras.Input(shape=(6), name=\"misc\")\n",
    "\n",
    "conv_model = tf.keras.models.Sequential([\n",
    "    tf.keras.layers.Reshape((8, 8, 13), input_shape=(64,13)),\n",
    "    tf.keras.layers.Conv2D(32, 3, padding=\"same\", activation=activation),\n",
    "    tf.keras.layers.Conv2D(32, 3, padding=\"same\", activation=activation),\n",
    "    tf.keras.layers.Conv2D(32, 3, padding=\"same\", activation=activation),\n",
    "    tf.keras.layers.MaxPool2D((2, 2),(1, 1), padding=\"same\"), \n",
    "    tf.keras.layers.Flatten(),\n",
    "    tf.keras.layers.Dense(256)\n",
    "], name=\"conv_critic_model\")\n",
    "conv_output = conv_model(board_input)\n",
    "\n",
    "dense_inputs = tf.keras.layers.concatenate([conv_output, misc_input])\n",
    "dense_model = tf.keras.models.Sequential([  # tf.concat([input[:1], conv_model_output, input[65:]], axis=0)\n",
    "    tf.keras.layers.Input(262),\n",
    "    tf.keras.layers.Dense(131, activation=activation),\n",
    "    tf.keras.layers.Dense(131, activation=activation),\n",
    "    tf.keras.layers.Dense(1, activation=\"sigmoid\")\n",
    "], name=\"dense_critic_model\")\n",
    "dense_output = dense_model(dense_inputs)\n",
    "\n",
    "critic_model = tf.keras.Model(inputs=[board_input, misc_input], outputs=dense_output, name=\"critic_model\")\n",
    "critic_model.compile(\n",
    "    optimizer = tf.keras.optimizers.Adam(learning_rate=0.001),\n",
    "    loss = tf.keras.losses.BinaryCrossentropy(),\n",
    "    metrics = tf.keras.metrics.BinaryCrossentropy(),\n",
    ")"
   ]
  },
  {
   "cell_type": "code",
   "execution_count": 10,
   "metadata": {},
   "outputs": [],
   "source": [
    "# actor\n",
    "activation = \"relu\"\n",
    "board_input = tf.keras.Input(shape=(64, 13), name=\"board\")\n",
    "misc_input = tf.keras.Input(shape=(6), name=\"misc\")\n",
    "\n",
    "conv_model = tf.keras.models.Sequential([\n",
    "    tf.keras.layers.Reshape((8, 8, 13), input_shape=(64,13)),\n",
    "    tf.keras.layers.Conv2D(32, 3, padding=\"same\", activation=activation),\n",
    "    tf.keras.layers.Conv2D(32, 3, padding=\"same\", activation=activation),\n",
    "    tf.keras.layers.Conv2D(32, 3, padding=\"same\", activation=activation),\n",
    "    tf.keras.layers.MaxPool2D((2, 2),(1, 1), padding=\"same\"), \n",
    "    tf.keras.layers.Flatten(),\n",
    "    tf.keras.layers.Dense(256)\n",
    "], name=\"conv_actor_model\")\n",
    "conv_output = conv_model(board_input)\n",
    "\n",
    "dense_inputs = tf.keras.layers.concatenate([conv_output, misc_input])\n",
    "dense_model = tf.keras.models.Sequential([  # tf.concat([input[:1], conv_model_output, input[65:]], axis=0)\n",
    "    tf.keras.layers.Input(262),\n",
    "    tf.keras.layers.Dense(131, activation=activation),\n",
    "    tf.keras.layers.Dense(131, activation=activation),\n",
    "    tf.keras.layers.Dense(constants.LEN_UCI_MOVES, activation=\"softmax\")\n",
    "], name=\"dense_actor_model\")\n",
    "dense_output = dense_model(dense_inputs)\n",
    "\n",
    "actor_model = tf.keras.Model(inputs=[board_input, misc_input], outputs=dense_output, name=\"actor_model\")\n",
    "actor_model.compile(\n",
    "    optimizer = tf.keras.optimizers.Adam(learning_rate=0.001),\n",
    "    loss = tf.keras.losses.SparseCategoricalCrossentropy(),\n",
    "    metrics = tf.keras.metrics.SparseCategoricalAccuracy(),\n",
    ")"
   ]
  },
  {
   "cell_type": "code",
   "execution_count": 11,
   "metadata": {},
   "outputs": [
    {
     "name": "stderr",
     "output_type": "stream",
     "text": [
      "2022-10-24 16:46:02.636337: W tensorflow/core/platform/profile_utils/cpu_utils.cc:128] Failed to get CPU frequency: 0 Hz\n"
     ]
    },
    {
     "ename": "ValueError",
     "evalue": "in user code:\n\n    File \"/Users/kenngkz/.pyenv/versions/3.10.5/envs/chess-ai/lib/python3.10/site-packages/keras/engine/training.py\", line 1845, in predict_function  *\n        return step_function(self, iterator)\n    File \"/Users/kenngkz/.pyenv/versions/3.10.5/envs/chess-ai/lib/python3.10/site-packages/keras/engine/training.py\", line 1834, in step_function  **\n        outputs = model.distribute_strategy.run(run_step, args=(data,))\n    File \"/Users/kenngkz/.pyenv/versions/3.10.5/envs/chess-ai/lib/python3.10/site-packages/keras/engine/training.py\", line 1823, in run_step  **\n        outputs = model.predict_step(data)\n    File \"/Users/kenngkz/.pyenv/versions/3.10.5/envs/chess-ai/lib/python3.10/site-packages/keras/engine/training.py\", line 1791, in predict_step\n        return self(x, training=False)\n    File \"/Users/kenngkz/.pyenv/versions/3.10.5/envs/chess-ai/lib/python3.10/site-packages/keras/utils/traceback_utils.py\", line 67, in error_handler\n        raise e.with_traceback(filtered_tb) from None\n    File \"/Users/kenngkz/.pyenv/versions/3.10.5/envs/chess-ai/lib/python3.10/site-packages/keras/engine/input_spec.py\", line 200, in assert_input_compatibility\n        raise ValueError(f'Layer \"{layer_name}\" expects {len(input_spec)} input(s),'\n\n    ValueError: Layer \"actor_model\" expects 2 input(s), but it received 1 input tensors. Inputs received: [<tf.Tensor 'IteratorGetNext:0' shape=(None,) dtype=int16>]\n",
     "output_type": "error",
     "traceback": [
      "\u001b[0;31m---------------------------------------------------------------------------\u001b[0m",
      "\u001b[0;31mValueError\u001b[0m                                Traceback (most recent call last)",
      "\u001b[1;32m/Users/kenngkz/Desktop/Coding/chess-ai/train.ipynb Cell 5\u001b[0m in \u001b[0;36m<cell line: 2>\u001b[0;34m()\u001b[0m\n\u001b[1;32m      <a href='vscode-notebook-cell:/Users/kenngkz/Desktop/Coding/chess-ai/train.ipynb#W4sZmlsZQ%3D%3D?line=0'>1</a>\u001b[0m \u001b[39mimport\u001b[39;00m \u001b[39mchess\u001b[39;00m\n\u001b[0;32m----> <a href='vscode-notebook-cell:/Users/kenngkz/Desktop/Coding/chess-ai/train.ipynb#W4sZmlsZQ%3D%3D?line=1'>2</a>\u001b[0m actor_model\u001b[39m.\u001b[39;49mpredict(utils\u001b[39m.\u001b[39;49mparse_fen(chess\u001b[39m.\u001b[39;49mBoard()\u001b[39m.\u001b[39;49mfen()))\n",
      "File \u001b[0;32m~/.pyenv/versions/3.10.5/envs/chess-ai/lib/python3.10/site-packages/keras/utils/traceback_utils.py:67\u001b[0m, in \u001b[0;36mfilter_traceback.<locals>.error_handler\u001b[0;34m(*args, **kwargs)\u001b[0m\n\u001b[1;32m     65\u001b[0m \u001b[39mexcept\u001b[39;00m \u001b[39mException\u001b[39;00m \u001b[39mas\u001b[39;00m e:  \u001b[39m# pylint: disable=broad-except\u001b[39;00m\n\u001b[1;32m     66\u001b[0m   filtered_tb \u001b[39m=\u001b[39m _process_traceback_frames(e\u001b[39m.\u001b[39m__traceback__)\n\u001b[0;32m---> 67\u001b[0m   \u001b[39mraise\u001b[39;00m e\u001b[39m.\u001b[39mwith_traceback(filtered_tb) \u001b[39mfrom\u001b[39;00m \u001b[39mNone\u001b[39m\n\u001b[1;32m     68\u001b[0m \u001b[39mfinally\u001b[39;00m:\n\u001b[1;32m     69\u001b[0m   \u001b[39mdel\u001b[39;00m filtered_tb\n",
      "File \u001b[0;32m/var/folders/1s/g7pl113j3tjbbz1gmbn5fzdw0000gn/T/__autograph_generated_fileuygy7aib.py:15\u001b[0m, in \u001b[0;36mouter_factory.<locals>.inner_factory.<locals>.tf__predict_function\u001b[0;34m(iterator)\u001b[0m\n\u001b[1;32m     13\u001b[0m \u001b[39mtry\u001b[39;00m:\n\u001b[1;32m     14\u001b[0m     do_return \u001b[39m=\u001b[39m \u001b[39mTrue\u001b[39;00m\n\u001b[0;32m---> 15\u001b[0m     retval_ \u001b[39m=\u001b[39m ag__\u001b[39m.\u001b[39mconverted_call(ag__\u001b[39m.\u001b[39mld(step_function), (ag__\u001b[39m.\u001b[39mld(\u001b[39mself\u001b[39m), ag__\u001b[39m.\u001b[39mld(iterator)), \u001b[39mNone\u001b[39;00m, fscope)\n\u001b[1;32m     16\u001b[0m \u001b[39mexcept\u001b[39;00m:\n\u001b[1;32m     17\u001b[0m     do_return \u001b[39m=\u001b[39m \u001b[39mFalse\u001b[39;00m\n",
      "\u001b[0;31mValueError\u001b[0m: in user code:\n\n    File \"/Users/kenngkz/.pyenv/versions/3.10.5/envs/chess-ai/lib/python3.10/site-packages/keras/engine/training.py\", line 1845, in predict_function  *\n        return step_function(self, iterator)\n    File \"/Users/kenngkz/.pyenv/versions/3.10.5/envs/chess-ai/lib/python3.10/site-packages/keras/engine/training.py\", line 1834, in step_function  **\n        outputs = model.distribute_strategy.run(run_step, args=(data,))\n    File \"/Users/kenngkz/.pyenv/versions/3.10.5/envs/chess-ai/lib/python3.10/site-packages/keras/engine/training.py\", line 1823, in run_step  **\n        outputs = model.predict_step(data)\n    File \"/Users/kenngkz/.pyenv/versions/3.10.5/envs/chess-ai/lib/python3.10/site-packages/keras/engine/training.py\", line 1791, in predict_step\n        return self(x, training=False)\n    File \"/Users/kenngkz/.pyenv/versions/3.10.5/envs/chess-ai/lib/python3.10/site-packages/keras/utils/traceback_utils.py\", line 67, in error_handler\n        raise e.with_traceback(filtered_tb) from None\n    File \"/Users/kenngkz/.pyenv/versions/3.10.5/envs/chess-ai/lib/python3.10/site-packages/keras/engine/input_spec.py\", line 200, in assert_input_compatibility\n        raise ValueError(f'Layer \"{layer_name}\" expects {len(input_spec)} input(s),'\n\n    ValueError: Layer \"actor_model\" expects 2 input(s), but it received 1 input tensors. Inputs received: [<tf.Tensor 'IteratorGetNext:0' shape=(None,) dtype=int16>]\n"
     ]
    }
   ],
   "source": [
    "import chess\n",
    "actor_model.predict(utils.parse_fen(chess.Board().fen()))"
   ]
  },
  {
   "cell_type": "code",
   "execution_count": null,
   "metadata": {},
   "outputs": [],
   "source": []
  }
 ],
 "metadata": {
  "kernelspec": {
   "display_name": "Python 3.10.5 64-bit ('chess-ai')",
   "language": "python",
   "name": "python3"
  },
  "language_info": {
   "codemirror_mode": {
    "name": "ipython",
    "version": 3
   },
   "file_extension": ".py",
   "mimetype": "text/x-python",
   "name": "python",
   "nbconvert_exporter": "python",
   "pygments_lexer": "ipython3",
   "version": "3.10.5 (main, Sep 12 2022, 14:30:27) [Clang 13.1.6 (clang-1316.0.21.2.5)]"
  },
  "orig_nbformat": 4,
  "vscode": {
   "interpreter": {
    "hash": "5b6482292139e81a4c390b61f9abeeeb497a34aaede834f7065ff9959c827cc3"
   }
  }
 },
 "nbformat": 4,
 "nbformat_minor": 2
}
