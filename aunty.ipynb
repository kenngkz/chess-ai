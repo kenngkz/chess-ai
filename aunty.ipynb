{
 "cells": [
  {
   "cell_type": "code",
   "execution_count": null,
   "metadata": {},
   "outputs": [],
   "source": []
  }
 ],
 "metadata": {
  "kernelspec": {
   "display_name": "Python 3.10.5 64-bit ('chess-ai')",
   "language": "python",
   "name": "python3"
  },
  "language_info": {
   "name": "python",
   "version": "3.10.5"
  },
  "orig_nbformat": 4,
  "vscode": {
   "interpreter": {
    "hash": "5b6482292139e81a4c390b61f9abeeeb497a34aaede834f7065ff9959c827cc3"
   }
  }
 },
 "nbformat": 4,
 "nbformat_minor": 2
}
