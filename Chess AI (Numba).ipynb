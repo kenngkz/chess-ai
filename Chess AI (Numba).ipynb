{
 "cells": [
  {
   "cell_type": "code",
   "execution_count": 2,
   "source": [
    "from numba import njit\r\n",
    "import numpy as np"
   ],
   "outputs": [],
   "metadata": {}
  },
  {
   "cell_type": "code",
   "execution_count": 100,
   "source": [
    "### GET FUNCTIONS ###\r\n",
    "# Returns all coors of a given piece in a list\r\n",
    "    # if piece is not on the board, returns an empty list\r\n",
    "@njit\r\n",
    "def find_piece_coors(board, piece):\r\n",
    "    coors = np.where(board == piece)\r\n",
    "    return [(row, col) for row, col in zip(coors[0], coors[1])]\r\n",
    "\r\n",
    "# Get the piece value in a certain position\r\n",
    "@njit\r\n",
    "def get_piece(board, coor):\r\n",
    "    try:\r\n",
    "        return board[coor[0], coor[1]]\r\n",
    "    except:\r\n",
    "        pass\r\n",
    "\r\n",
    "\r\n",
    "\r\n",
    "### MOVE GENERATION ###\r\n",
    "# Returns all prelegal destinations of a given piece in a given direction\r\n",
    "@njit\r\n",
    "def prelegal_in_direction(board, side, piece_coor, direction, max_iter=7):\r\n",
    "    destinations = []\r\n",
    "    next_coor = np.add(piece_coor, direction)\r\n",
    "    # iterates and updates the current coor to see if the next coor is occupied\r\n",
    "    for _ in range(max_iter):\r\n",
    "        # check for overlap and off board\r\n",
    "        occupant = is_occupied(board, next_coor)\r\n",
    "        if occupant == 0:\r\n",
    "            destinations.append(next_coor)\r\n",
    "        elif occupant == -side:\r\n",
    "            destinations.append(next_coor)\r\n",
    "            break\r\n",
    "        else:\r\n",
    "            break\r\n",
    "        next_coor = np.add(next_coor, direction)\r\n",
    "    return destinations\r\n",
    "\r\n",
    "\r\n",
    "\r\n",
    "### INDICATOR FUNCTIONS ###\r\n",
    "# Checks if the given coor is occupied, indicates side if it is occupied, returns None if coor not on board\r\n",
    "@njit\r\n",
    "def is_occupied(board, coor):\r\n",
    "    try:\r\n",
    "        return np.sign(board[coor[0], coor[1]])\r\n",
    "    except:\r\n",
    "        return None\r\n",
    "\r\n",
    "# Checks if a given coor is under attack from opposing side\r\n",
    "@njit\r\n",
    "def is_under_attack(board, coor):\r\n",
    "    pass\r\n",
    "\r\n",
    "# Checks if a given position puts one side under check\r\n",
    "@njit\r\n",
    "def is_check(board, side):\r\n",
    "    pass\r\n",
    "\r\n",
    "# Checks if the game has ended\r\n",
    "@njit\r\n",
    "def is_game_end(board, coor):\r\n",
    "    pass"
   ],
   "outputs": [],
   "metadata": {}
  },
  {
   "cell_type": "code",
   "execution_count": 106,
   "source": [
    "ini_board = np.array([\r\n",
    "    [-4,-2,-3,-5,-6,-3,-2,-4],\r\n",
    "    [-1,-1,-1,-1,-1,-1,-1,-1],\r\n",
    "    [ 0, 0, 0, 0, 0, 0, 0, 0],\r\n",
    "    [ 0, 0, 0, 0, 0, 0, 0, 0],\r\n",
    "    [ 0, 0, 0, 0, 0, 0, 0, 0],\r\n",
    "    [ 0, 0, 0, 0, 0, 0, 0, 0],\r\n",
    "    [ 1, 1, 1, 1, 1, 1, 1, 1],\r\n",
    "    [ 4, 2, 3, 5, 6, 3, 2, 4], \r\n",
    "])\r\n",
    "\r\n",
    "empty_board = np.array([\r\n",
    "    [ 0, 0, 0, 0, 0, 0, 0, 0],\r\n",
    "    [ 0, 0, 0, 0, 0, 0, 0, 0],\r\n",
    "    [ 0, 0, 0, 0, 0, 0, 0, 0],\r\n",
    "    [ 0, 0, 0, 0, 0, 0, 0, 0],\r\n",
    "    [ 0, 0, 0, 0, 0, 0, 0, 0],\r\n",
    "    [ 0, 0, 0, 0, 0, 0, 0, 0],\r\n",
    "    [ 0, 0, 0, 0, 0, 0, 0, 0],\r\n",
    "    [ 0, 0, 0, 0, 0, 0, 0, 0]\r\n",
    "])\r\n",
    "\r\n",
    "n_iters = 1000000\r\n",
    "side = 1\r\n",
    "piece_coor = np.array([2, 4])\r\n",
    "direction = np.array([1, 0])\r\n",
    "max_iter = 7"
   ],
   "outputs": [
    {
     "output_type": "execute_result",
     "data": {
      "text/plain": [
       "[(7, 4)]"
      ]
     },
     "metadata": {},
     "execution_count": 106
    }
   ],
   "metadata": {}
  },
  {
   "cell_type": "code",
   "execution_count": 109,
   "source": [
    "%%time\r\n",
    "for _ in range(29743008):\r\n",
    "    prelegal_in_direction(ini_board, side, piece_coor, direction)"
   ],
   "outputs": [
    {
     "output_type": "stream",
     "name": "stdout",
     "text": [
      "Wall time: 1min 40s\n"
     ]
    }
   ],
   "metadata": {}
  }
 ],
 "metadata": {
  "orig_nbformat": 4,
  "language_info": {
   "name": "python",
   "version": "3.7.10",
   "mimetype": "text/x-python",
   "codemirror_mode": {
    "name": "ipython",
    "version": 3
   },
   "pygments_lexer": "ipython3",
   "nbconvert_exporter": "python",
   "file_extension": ".py"
  },
  "kernelspec": {
   "name": "python3",
   "display_name": "Python 3.7.10 64-bit ('chess_app': conda)"
  },
  "interpreter": {
   "hash": "5cee0045c93b03fae7efe4c18f9d9ed315e1cdac341505bf25d8fa06a3d013c2"
  }
 },
 "nbformat": 4,
 "nbformat_minor": 2
}