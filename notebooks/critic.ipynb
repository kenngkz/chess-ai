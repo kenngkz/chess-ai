{
 "cells": [
  {
   "cell_type": "code",
   "execution_count": 1,
   "metadata": {},
   "outputs": [],
   "source": [
    "import sys\n",
    "if \"..\" not in sys.path:\n",
    "    sys.path.append(\"..\")\n",
    "\n",
    "import tensorflow as tf\n",
    "from tensorflow import keras\n",
    "\n",
    "from src.constants import LEN_UCI_MOVES\n",
    "\n",
    "activation = \"relu\"\n",
    "inputs = keras.Input(shape=(70), name=\"all_input\")\n",
    "board_input = keras.layers.Lambda(lambda x: tf.slice(x, (0, 0), (-1, 64)), name=\"board_input\")(inputs)\n",
    "misc_input = keras.layers.Lambda(lambda x: tf.slice(x, (0, 64), (-1, 6)), name=\"misc_input\")(inputs)\n",
    "\n",
    "conv3_model = tf.keras.models.Sequential([  # 1:65\n",
    "    keras.layers.Reshape((8, 8, 1), input_shape=(64,)),\n",
    "    keras.layers.Conv2D(32, 3, padding=\"same\", activation=activation),\n",
    "    keras.layers.Conv2D(32, 3, padding=\"same\", activation=activation),\n",
    "    keras.layers.Flatten(),\n",
    "    keras.layers.Dense(64)\n",
    "], name=\"conv_model_k3\")\n",
    "conv3_output = conv3_model(board_input)\n",
    "\n",
    "conv5_model = tf.keras.models.Sequential([  # 1:65\n",
    "    keras.layers.Reshape((8, 8, 1), input_shape=(64,)),\n",
    "    keras.layers.Conv2D(32, 5, padding=\"same\", activation=activation),\n",
    "    keras.layers.Conv2D(32, 5, padding=\"same\", activation=activation),\n",
    "    keras.layers.Flatten(),\n",
    "    keras.layers.Dense(64)\n",
    "], name=\"conv_model_k5\")\n",
    "conv5_output = conv5_model(board_input)\n",
    "\n",
    "conv7_model = tf.keras.models.Sequential([  # 1:65\n",
    "    keras.layers.Reshape((8, 8, 1), input_shape=(64,)),\n",
    "    keras.layers.Conv2D(32, 7, padding=\"same\", activation=activation),\n",
    "    keras.layers.Conv2D(32, 7, padding=\"same\", activation=activation),\n",
    "    keras.layers.Flatten(),\n",
    "    keras.layers.Dense(64)\n",
    "], name=\"conv_model_k7\")\n",
    "conv7_output = conv7_model(board_input)\n",
    "\n",
    "dense_inputs = keras.layers.concatenate([conv3_output, conv5_output, conv7_output, misc_input])\n",
    "dense_model = tf.keras.models.Sequential([  # tf.concat([input[:1], conv_model_output, input[65:]], axis=0)\n",
    "    keras.layers.Input(198),\n",
    "    keras.layers.Dense(256, activation=activation),\n",
    "    keras.layers.Dense(256, activation=activation),\n",
    "    keras.layers.Dense(1, activation=\"sigmoid\")\n",
    "], name=\"dense_model\")\n",
    "dense_output = dense_model(dense_inputs)\n",
    "\n",
    "model = keras.models.Model(inputs, dense_output, name=\"conv2d_357\")\n",
    "model.compile(\n",
    "    optimizer = keras.optimizers.legacy.Adam(learning_rate=0.001),\n",
    "    loss = keras.losses.BinaryCrossentropy(),\n",
    "    metrics = [keras.metrics.BinaryCrossentropy()],\n",
    ")"
   ]
  },
  {
   "cell_type": "code",
   "execution_count": 2,
   "metadata": {},
   "outputs": [],
   "source": [
    "import pandas as pd\n",
    "import numpy as np\n",
    "\n",
    "test_file = \"../data/split/processed/chess1.pkl\"\n",
    "df = pd.read_pickle(test_file)\n",
    "X = np.concatenate([np.array(df[\"obs_board\"].values.tolist()), np.array(df[\"obs_misc\"].values.tolist())], axis=1)\n",
    "Y = df[\"outcome\"].values"
   ]
  },
  {
   "cell_type": "code",
   "execution_count": 3,
   "metadata": {},
   "outputs": [
    {
     "name": "stdout",
     "output_type": "stream",
     "text": [
      "31250/31250 [==============================] - 194s 6ms/step - loss: 0.6160 - binary_crossentropy: 0.6160\n"
     ]
    },
    {
     "data": {
      "text/plain": [
       "<keras.src.callbacks.History at 0x1076769e0>"
      ]
     },
     "execution_count": 3,
     "metadata": {},
     "output_type": "execute_result"
    }
   ],
   "source": [
    "model.fit(X, Y)"
   ]
  },
  {
   "cell_type": "code",
   "execution_count": 4,
   "metadata": {},
   "outputs": [
    {
     "name": "stdout",
     "output_type": "stream",
     "text": [
      "31250/31250 [==============================] - 61s 2ms/step\n"
     ]
    }
   ],
   "source": [
    "predictions = model.predict(X)"
   ]
  },
  {
   "cell_type": "code",
   "execution_count": 10,
   "metadata": {},
   "outputs": [
    {
     "data": {
      "text/plain": [
       "0.585358"
      ]
     },
     "execution_count": 10,
     "metadata": {},
     "output_type": "execute_result"
    }
   ],
   "source": [
    "accuracy = tf.keras.metrics.BinaryAccuracy(\n",
    "    name='binary_accuracy', dtype=None, threshold=0.5\n",
    ")\n",
    "accuracy.update_state(Y, predictions)\n",
    "accuracy.result().numpy()"
   ]
  },
  {
   "cell_type": "code",
   "execution_count": 11,
   "metadata": {},
   "outputs": [
    {
     "data": {
      "text/plain": [
       "0.5996955"
      ]
     },
     "execution_count": 11,
     "metadata": {},
     "output_type": "execute_result"
    }
   ],
   "source": [
    "cross_entropy = tf.keras.metrics.BinaryCrossentropy(\n",
    "    name='binary_crossentropy',\n",
    "    dtype=None,\n",
    "    from_logits=False,\n",
    "    label_smoothing=0\n",
    ")\n",
    "cross_entropy.update_state(Y, predictions)\n",
    "cross_entropy.result().numpy()"
   ]
  }
 ],
 "metadata": {
  "kernelspec": {
   "display_name": "chess",
   "language": "python",
   "name": "python3"
  },
  "language_info": {
   "codemirror_mode": {
    "name": "ipython",
    "version": 3
   },
   "file_extension": ".py",
   "mimetype": "text/x-python",
   "name": "python",
   "nbconvert_exporter": "python",
   "pygments_lexer": "ipython3",
   "version": "3.10.11"
  }
 },
 "nbformat": 4,
 "nbformat_minor": 2
}
