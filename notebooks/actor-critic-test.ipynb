{
 "cells": [
  {
   "cell_type": "code",
   "execution_count": 1,
   "metadata": {},
   "outputs": [],
   "source": [
    "import sys\n",
    "if \"..\" not in sys.path:\n",
    "    sys.path.append(\"..\")\n",
    "\n",
    "import tensorflow as tf\n",
    "# from tensorflow.python.keras import layers, losses, metrics, models\n",
    "\n",
    "from src.constants import LEN_UCI_MOVES\n",
    "from src.neural_network.actor import train_on_files as actor_train_files, evaluate_on_files as actor_eval_files\n",
    "from src.neural_network.critic import train_on_files as critic_train_files, evaluate_on_files as critic_eval_files\n",
    "\n",
    "activation = \"relu\"\n",
    "actor_model = tf.keras.models.Sequential([\n",
    "    tf.keras.layers.InputLayer(70),\n",
    "    tf.keras.layers.Dense(1000, activation=activation),\n",
    "    tf.keras.layers.Dense(1000, activation=activation),\n",
    "    tf.keras.layers.Dense(1000, activation=activation),\n",
    "    tf.keras.layers.Dense(LEN_UCI_MOVES, activation=\"softmax\")\n",
    "])\n",
    "actor_model.compile(\n",
    "    optimizer = tf.keras.optimizers.legacy.Adam(learning_rate=0.001),\n",
    "    loss = tf.keras.losses.CategoricalCrossentropy(),\n",
    "    metrics = [tf.keras.metrics.CategoricalCrossentropy()],\n",
    ")\n",
    "\n",
    "\n",
    "critic_model = tf.keras.models.Sequential([\n",
    "    tf.keras.layers.InputLayer(70),\n",
    "    tf.keras.layers.Dense(1000, activation=activation),\n",
    "    tf.keras.layers.Dense(1000, activation=activation),\n",
    "    tf.keras.layers.Dense(1000, activation=activation),\n",
    "    tf.keras.layers.Dense(1, activation=\"sigmoid\")\n",
    "])\n",
    "critic_model.compile(\n",
    "    optimizer = tf.keras.optimizers.legacy.Adam(learning_rate=0.001),\n",
    "    loss = tf.keras.losses.BinaryCrossentropy(),\n",
    "    metrics = [tf.keras.metrics.BinaryCrossentropy()],\n",
    ")"
   ]
  },
  {
   "cell_type": "code",
   "execution_count": 2,
   "metadata": {},
   "outputs": [
    {
     "name": "stdout",
     "output_type": "stream",
     "text": [
      "Training on ../data/split/processed/chess1.pkl\n",
      "31250/31250 [==============================] - 238s 8ms/step - loss: 5.1414 - categorical_crossentropy: 5.1414\n",
      "INFO:tensorflow:Assets written to: ../actor_model/assets\n"
     ]
    },
    {
     "name": "stderr",
     "output_type": "stream",
     "text": [
      "INFO:tensorflow:Assets written to: ../actor_model/assets\n"
     ]
    }
   ],
   "source": [
    "train_files = [\"../data/split/processed/chess1.pkl\"]\n",
    "eval_files = [\"../data/split/processed/chess1.pkl\"]\n",
    "actor_model = actor_train_files(actor_model, train_files, ckpt_file=\"../actor_model\")"
   ]
  },
  {
   "cell_type": "code",
   "execution_count": 3,
   "metadata": {},
   "outputs": [
    {
     "name": "stdout",
     "output_type": "stream",
     "text": [
      "Training on ../data/split/processed/chess1.pkl\n",
      "31250/31250 [==============================] - 169s 5ms/step - loss: 0.6159 - binary_crossentropy: 0.6159\n",
      "INFO:tensorflow:Assets written to: ../critic_model/assets\n"
     ]
    },
    {
     "name": "stderr",
     "output_type": "stream",
     "text": [
      "INFO:tensorflow:Assets written to: ../critic_model/assets\n"
     ]
    }
   ],
   "source": [
    "critic_model = critic_train_files(critic_model, train_files, ckpt_file=\"../critic_model\")"
   ]
  },
  {
   "cell_type": "code",
   "execution_count": 4,
   "metadata": {},
   "outputs": [
    {
     "name": "stdout",
     "output_type": "stream",
     "text": [
      "31250/31250 [==============================] - 52s 2ms/step\n",
      "{'categorical_accuracy': 0.1380240023136139, 'categorical_crossentropy': 4.719549655914307}\n",
      "31250/31250 [==============================] - 38s 1ms/step\n",
      "{'binary_accuracy': 0.5867379903793335, 'binary_crossentropy': 0.5960864424705505}\n"
     ]
    }
   ],
   "source": [
    "print(actor_eval_files(actor_model, eval_files))\n",
    "print(critic_eval_files(critic_model, eval_files))"
   ]
  },
  {
   "cell_type": "code",
   "execution_count": 2,
   "metadata": {},
   "outputs": [
    {
     "name": "stdout",
     "output_type": "stream",
     "text": [
      "Training on ../data/split/processed/chess1.pkl\n"
     ]
    },
    {
     "ename": "RuntimeError",
     "evalue": "You must compile your model before training/testing. Use `model.compile(optimizer, loss)`.",
     "output_type": "error",
     "traceback": [
      "\u001b[0;31m---------------------------------------------------------------------------\u001b[0m",
      "\u001b[0;31mRuntimeError\u001b[0m                              Traceback (most recent call last)",
      "Cell \u001b[0;32mIn[2], line 10\u001b[0m\n\u001b[1;32m      7\u001b[0m     \u001b[38;5;28;01mreturn\u001b[39;00m critic_model\u001b[38;5;241m.\u001b[39mpredict(X)\n\u001b[1;32m      9\u001b[0m actor_model \u001b[38;5;241m=\u001b[39m ActorModel(critic_loss_function\u001b[38;5;241m=\u001b[39mcritic_loss_function)\n\u001b[0;32m---> 10\u001b[0m actor_model \u001b[38;5;241m=\u001b[39m \u001b[43mactor_train_files\u001b[49m\u001b[43m(\u001b[49m\u001b[43mactor_model\u001b[49m\u001b[43m,\u001b[49m\u001b[43m \u001b[49m\u001b[43m[\u001b[49m\u001b[38;5;124;43m\"\u001b[39;49m\u001b[38;5;124;43m../data/split/processed/chess1.pkl\u001b[39;49m\u001b[38;5;124;43m\"\u001b[39;49m\u001b[43m]\u001b[49m\u001b[43m)\u001b[49m\n\u001b[1;32m     11\u001b[0m \u001b[38;5;28mprint\u001b[39m(actor_eval_files(actor_model, [\u001b[38;5;124m\"\u001b[39m\u001b[38;5;124m../data/split/processed/chess1.pkl\u001b[39m\u001b[38;5;124m\"\u001b[39m]))\n",
      "File \u001b[0;32m~/Desktop/Coding/chess-ai/notebooks/../src/neural_network/common/train.py:20\u001b[0m, in \u001b[0;36mbuild_train_on_files_function.<locals>.train_on_files\u001b[0;34m(model, files, ckpt_file)\u001b[0m\n\u001b[1;32m     18\u001b[0m X \u001b[38;5;241m=\u001b[39m load_X_from_df(df)\n\u001b[1;32m     19\u001b[0m Y \u001b[38;5;241m=\u001b[39m func_load_Y(df)\n\u001b[0;32m---> 20\u001b[0m \u001b[43mmodel\u001b[49m\u001b[38;5;241;43m.\u001b[39;49m\u001b[43mfit\u001b[49m\u001b[43m(\u001b[49m\u001b[43mX\u001b[49m\u001b[43m,\u001b[49m\u001b[43m \u001b[49m\u001b[43mY\u001b[49m\u001b[43m)\u001b[49m\n\u001b[1;32m     21\u001b[0m \u001b[38;5;28;01mif\u001b[39;00m ckpt_file:\n\u001b[1;32m     22\u001b[0m     model\u001b[38;5;241m.\u001b[39msave(ckpt_file)\n",
      "File \u001b[0;32m~/.pyenv/versions/3.10.11/envs/chess/lib/python3.10/site-packages/tensorflow/python/keras/engine/training.py:1109\u001b[0m, in \u001b[0;36mModel.fit\u001b[0;34m(self, x, y, batch_size, epochs, verbose, callbacks, validation_split, validation_data, shuffle, class_weight, sample_weight, initial_epoch, steps_per_epoch, validation_steps, validation_batch_size, validation_freq, max_queue_size, workers, use_multiprocessing)\u001b[0m\n\u001b[1;32m   1107\u001b[0m \u001b[38;5;66;03m# Legacy graph support is contained in `training_v1.Model`.\u001b[39;00m\n\u001b[1;32m   1108\u001b[0m version_utils\u001b[38;5;241m.\u001b[39mdisallow_legacy_graph(\u001b[38;5;124m'\u001b[39m\u001b[38;5;124mModel\u001b[39m\u001b[38;5;124m'\u001b[39m, \u001b[38;5;124m'\u001b[39m\u001b[38;5;124mfit\u001b[39m\u001b[38;5;124m'\u001b[39m)\n\u001b[0;32m-> 1109\u001b[0m \u001b[38;5;28;43mself\u001b[39;49m\u001b[38;5;241;43m.\u001b[39;49m\u001b[43m_assert_compile_was_called\u001b[49m\u001b[43m(\u001b[49m\u001b[43m)\u001b[49m\n\u001b[1;32m   1110\u001b[0m \u001b[38;5;28mself\u001b[39m\u001b[38;5;241m.\u001b[39m_check_call_args(\u001b[38;5;124m'\u001b[39m\u001b[38;5;124mfit\u001b[39m\u001b[38;5;124m'\u001b[39m)\n\u001b[1;32m   1111\u001b[0m _disallow_inside_tf_function(\u001b[38;5;124m'\u001b[39m\u001b[38;5;124mfit\u001b[39m\u001b[38;5;124m'\u001b[39m)\n",
      "File \u001b[0;32m~/.pyenv/versions/3.10.11/envs/chess/lib/python3.10/site-packages/tensorflow/python/keras/engine/training.py:2722\u001b[0m, in \u001b[0;36mModel._assert_compile_was_called\u001b[0;34m(self)\u001b[0m\n\u001b[1;32m   2716\u001b[0m \u001b[38;5;28;01mdef\u001b[39;00m \u001b[38;5;21m_assert_compile_was_called\u001b[39m(\u001b[38;5;28mself\u001b[39m):\n\u001b[1;32m   2717\u001b[0m   \u001b[38;5;66;03m# Checks whether `compile` has been called. If it has been called,\u001b[39;00m\n\u001b[1;32m   2718\u001b[0m   \u001b[38;5;66;03m# then the optimizer is set. This is different from whether the\u001b[39;00m\n\u001b[1;32m   2719\u001b[0m   \u001b[38;5;66;03m# model is compiled\u001b[39;00m\n\u001b[1;32m   2720\u001b[0m   \u001b[38;5;66;03m# (i.e. whether the model is built and its inputs/outputs are set).\u001b[39;00m\n\u001b[1;32m   2721\u001b[0m   \u001b[38;5;28;01mif\u001b[39;00m \u001b[38;5;129;01mnot\u001b[39;00m \u001b[38;5;28mself\u001b[39m\u001b[38;5;241m.\u001b[39m_is_compiled:\n\u001b[0;32m-> 2722\u001b[0m     \u001b[38;5;28;01mraise\u001b[39;00m \u001b[38;5;167;01mRuntimeError\u001b[39;00m(\u001b[38;5;124m'\u001b[39m\u001b[38;5;124mYou must compile your model before \u001b[39m\u001b[38;5;124m'\u001b[39m\n\u001b[1;32m   2723\u001b[0m                        \u001b[38;5;124m'\u001b[39m\u001b[38;5;124mtraining/testing. \u001b[39m\u001b[38;5;124m'\u001b[39m\n\u001b[1;32m   2724\u001b[0m                        \u001b[38;5;124m'\u001b[39m\u001b[38;5;124mUse `model.compile(optimizer, loss)`.\u001b[39m\u001b[38;5;124m'\u001b[39m)\n",
      "\u001b[0;31mRuntimeError\u001b[0m: You must compile your model before training/testing. Use `model.compile(optimizer, loss)`."
     ]
    }
   ],
   "source": [
    "critic_model = tf.keras.models.load_model(\"../ckpt/critic_model\")\n",
    "\n",
    "from src.neural_network.actor_model import ActorModel\n",
    "\n",
    "\n",
    "def critic_loss_function(X):\n",
    "    return critic_model.predict(X)\n",
    "\n",
    "actor_model = ActorModel(critic_loss_function=critic_loss_function)\n",
    "actor_model = actor_train_files(actor_model, [\"../data/split/processed/chess1.pkl\"])\n",
    "print(actor_eval_files(actor_model, [\"../data/split/processed/chess1.pkl\"]))"
   ]
  }
 ],
 "metadata": {
  "kernelspec": {
   "display_name": "chess",
   "language": "python",
   "name": "python3"
  },
  "language_info": {
   "codemirror_mode": {
    "name": "ipython",
    "version": 3
   },
   "file_extension": ".py",
   "mimetype": "text/x-python",
   "name": "python",
   "nbconvert_exporter": "python",
   "pygments_lexer": "ipython3",
   "version": "3.10.11"
  }
 },
 "nbformat": 4,
 "nbformat_minor": 2
}
