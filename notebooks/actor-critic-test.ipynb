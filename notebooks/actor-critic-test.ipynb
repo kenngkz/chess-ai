{
 "cells": [
  {
   "cell_type": "code",
   "execution_count": 1,
   "metadata": {},
   "outputs": [],
   "source": [
    "import sys\n",
    "if \"..\" not in sys.path:\n",
    "    sys.path.append(\"..\")\n",
    "\n",
    "import tensorflow as tf\n",
    "# from tensorflow.python.keras import layers, losses, metrics, models\n",
    "\n",
    "from src.constants import LEN_UCI_MOVES\n",
    "from src.neural_network.actor import train_on_files as actor_train_files, evaluate_on_files as actor_eval_files\n",
    "from src.neural_network.critic import train_on_files as critic_train_files, evaluate_on_files as critic_eval_files\n",
    "\n",
    "activation = \"relu\"\n",
    "actor_model = tf.keras.models.Sequential([\n",
    "    tf.keras.layers.InputLayer(70),\n",
    "    tf.keras.layers.Dense(1000, activation=activation),\n",
    "    tf.keras.layers.Dense(1000, activation=activation),\n",
    "    tf.keras.layers.Dense(1000, activation=activation),\n",
    "    tf.keras.layers.Dense(LEN_UCI_MOVES, activation=\"softmax\")\n",
    "])\n",
    "actor_model.compile(\n",
    "    optimizer = tf.keras.optimizers.legacy.Adam(learning_rate=0.001),\n",
    "    loss = tf.keras.losses.CategoricalCrossentropy(),\n",
    "    metrics = [tf.keras.metrics.CategoricalCrossentropy()],\n",
    ")\n",
    "\n",
    "\n",
    "critic_model = tf.keras.models.Sequential([\n",
    "    tf.keras.layers.InputLayer(70),\n",
    "    tf.keras.layers.Dense(1000, activation=activation),\n",
    "    tf.keras.layers.Dense(1000, activation=activation),\n",
    "    tf.keras.layers.Dense(1000, activation=activation),\n",
    "    tf.keras.layers.Dense(1, activation=\"sigmoid\")\n",
    "])\n",
    "critic_model.compile(\n",
    "    optimizer = tf.keras.optimizers.legacy.Adam(learning_rate=0.001),\n",
    "    loss = tf.keras.losses.BinaryCrossentropy(),\n",
    "    metrics = [tf.keras.metrics.BinaryCrossentropy()],\n",
    ")"
   ]
  },
  {
   "cell_type": "code",
   "execution_count": 2,
   "metadata": {},
   "outputs": [
    {
     "name": "stdout",
     "output_type": "stream",
     "text": [
      "Training on ../data/split/processed/chess1.pkl\n",
      "31250/31250 [==============================] - 238s 8ms/step - loss: 5.1414 - categorical_crossentropy: 5.1414\n",
      "INFO:tensorflow:Assets written to: ../actor_model/assets\n"
     ]
    },
    {
     "name": "stderr",
     "output_type": "stream",
     "text": [
      "INFO:tensorflow:Assets written to: ../actor_model/assets\n"
     ]
    }
   ],
   "source": [
    "train_files = [\"../data/split/processed/chess1.pkl\"]\n",
    "eval_files = [\"../data/split/processed/chess1.pkl\"]\n",
    "actor_model = actor_train_files(actor_model, train_files, ckpt_file=\"../actor_model\")"
   ]
  },
  {
   "cell_type": "code",
   "execution_count": 3,
   "metadata": {},
   "outputs": [
    {
     "name": "stdout",
     "output_type": "stream",
     "text": [
      "Training on ../data/split/processed/chess1.pkl\n",
      "31250/31250 [==============================] - 169s 5ms/step - loss: 0.6159 - binary_crossentropy: 0.6159\n",
      "INFO:tensorflow:Assets written to: ../critic_model/assets\n"
     ]
    },
    {
     "name": "stderr",
     "output_type": "stream",
     "text": [
      "INFO:tensorflow:Assets written to: ../critic_model/assets\n"
     ]
    }
   ],
   "source": [
    "critic_model = critic_train_files(critic_model, train_files, ckpt_file=\"../critic_model\")"
   ]
  },
  {
   "cell_type": "code",
   "execution_count": 4,
   "metadata": {},
   "outputs": [
    {
     "name": "stdout",
     "output_type": "stream",
     "text": [
      "31250/31250 [==============================] - 52s 2ms/step\n",
      "{'categorical_accuracy': 0.1380240023136139, 'categorical_crossentropy': 4.719549655914307}\n",
      "31250/31250 [==============================] - 38s 1ms/step\n",
      "{'binary_accuracy': 0.5867379903793335, 'binary_crossentropy': 0.5960864424705505}\n"
     ]
    }
   ],
   "source": [
    "print(actor_eval_files(actor_model, eval_files))\n",
    "print(critic_eval_files(critic_model, eval_files))"
   ]
  }
 ],
 "metadata": {
  "kernelspec": {
   "display_name": "chess",
   "language": "python",
   "name": "python3"
  },
  "language_info": {
   "codemirror_mode": {
    "name": "ipython",
    "version": 3
   },
   "file_extension": ".py",
   "mimetype": "text/x-python",
   "name": "python",
   "nbconvert_exporter": "python",
   "pygments_lexer": "ipython3",
   "version": "3.10.11"
  }
 },
 "nbformat": 4,
 "nbformat_minor": 2
}
