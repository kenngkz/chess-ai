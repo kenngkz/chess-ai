{
 "cells": [
  {
   "cell_type": "code",
   "execution_count": 13,
   "metadata": {},
   "outputs": [],
   "source": [
    "import sys\n",
    "if \"..\" not in sys.path:\n",
    "    sys.path.append(\"..\")\n",
    "\n",
    "import tensorflow as tf\n",
    "# from tensorflow.python.keras import layers, losses, metrics, models\n",
    "\n",
    "from src.constants import LEN_UCI_MOVES\n",
    "from src.neural_network.actor import train_on_files as actor_train_files, evaluate_on_files as actor_eval_files\n",
    "from src.neural_network.critic import train_on_files as critic_train_files, evaluate_on_files as critic_eval_files\n",
    "\n",
    "activation = \"relu\"\n",
    "actor_model = tf.keras.models.Sequential([\n",
    "    tf.keras.layers.InputLayer(70),\n",
    "    tf.keras.layers.Dense(1000, activation=activation),\n",
    "    tf.keras.layers.Dense(1000, activation=activation),\n",
    "    tf.keras.layers.Dense(1000, activation=activation),\n",
    "    tf.keras.layers.Dense(LEN_UCI_MOVES, activation=\"softmax\")\n",
    "])\n",
    "actor_model.compile(\n",
    "    optimizer = tf.keras.optimizers.legacy.Adam(learning_rate=0.001),\n",
    "    loss = tf.keras.losses.CategoricalCrossentropy(),\n",
    "    metrics = [tf.keras.metrics.CategoricalCrossentropy()],\n",
    ")\n",
    "\n",
    "\n",
    "critic_model = tf.keras.models.Sequential([\n",
    "    tf.keras.layers.InputLayer(70),\n",
    "    tf.keras.layers.Dense(1000, activation=activation),\n",
    "    tf.keras.layers.Dense(1000, activation=activation),\n",
    "    tf.keras.layers.Dense(1000, activation=activation),\n",
    "    tf.keras.layers.Dense(1, activation=\"sigmoid\")\n",
    "])\n",
    "critic_model.compile(\n",
    "    optimizer = tf.keras.optimizers.legacy.Adam(learning_rate=0.001),\n",
    "    loss = tf.keras.losses.BinaryCrossentropy(),\n",
    "    metrics = [tf.keras.metrics.BinaryCrossentropy()],\n",
    ")"
   ]
  },
  {
   "cell_type": "code",
   "execution_count": 14,
   "metadata": {},
   "outputs": [
    {
     "name": "stdout",
     "output_type": "stream",
     "text": [
      "Training on ../data/split/processed/chess1.pkl\n",
      "31250/31250 [==============================] - 234s 7ms/step - loss: 5.1396 - categorical_crossentropy: 5.1396\n"
     ]
    }
   ],
   "source": [
    "train_files = [\"../data/split/processed/chess1.pkl\"]\n",
    "eval_files = [\"../data/split/processed/chess1.pkl\"]\n",
    "actor_model = actor_train_files(actor_model, train_files)"
   ]
  },
  {
   "cell_type": "code",
   "execution_count": 15,
   "metadata": {},
   "outputs": [
    {
     "name": "stdout",
     "output_type": "stream",
     "text": [
      "Training on ../data/split/processed/chess1.pkl\n",
      "31250/31250 [==============================] - 141s 5ms/step - loss: 0.6164 - binary_crossentropy: 0.6164\n"
     ]
    }
   ],
   "source": [
    "critic_model = critic_train_files(critic_model, train_files)"
   ]
  },
  {
   "cell_type": "code",
   "execution_count": 16,
   "metadata": {},
   "outputs": [
    {
     "name": "stdout",
     "output_type": "stream",
     "text": [
      "31250/31250 [==============================] - 49s 2ms/step\n",
      "{'categorical_accuracy': 0.13977499306201935, 'categorical_crossentropy': 4.708308219909668}\n",
      "31250/31250 [==============================] - 38s 1ms/step\n",
      "{'binary_accuracy': 0.5874649882316589, 'binary_crossentropy': 0.5957316756248474}\n"
     ]
    }
   ],
   "source": [
    "print(actor_eval_files(actor_model, eval_files))\n",
    "print(critic_eval_files(critic_model, eval_files))"
   ]
  }
 ],
 "metadata": {
  "kernelspec": {
   "display_name": "chess",
   "language": "python",
   "name": "python3"
  },
  "language_info": {
   "codemirror_mode": {
    "name": "ipython",
    "version": 3
   },
   "file_extension": ".py",
   "mimetype": "text/x-python",
   "name": "python",
   "nbconvert_exporter": "python",
   "pygments_lexer": "ipython3",
   "version": "3.10.11"
  }
 },
 "nbformat": 4,
 "nbformat_minor": 2
}
