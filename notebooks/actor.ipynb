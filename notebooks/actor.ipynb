{
 "cells": [
  {
   "cell_type": "code",
   "execution_count": 19,
   "metadata": {},
   "outputs": [],
   "source": [
    "import sys\n",
    "if \"..\" not in sys.path:\n",
    "    sys.path.append(\"..\")\n",
    "\n",
    "import tensorflow as tf\n",
    "from tensorflow import keras\n",
    "\n",
    "from src.constants import LEN_UCI_MOVES\n",
    "\n",
    "activation = \"relu\"\n",
    "inputs = keras.Input(shape=(70), name=\"all_input\")\n",
    "board_input = keras.layers.Lambda(lambda x: tf.slice(x, (0, 0), (-1, 64)), name=\"board_input\")(inputs)\n",
    "misc_input = keras.layers.Lambda(lambda x: tf.slice(x, (0, 64), (-1, 6)), name=\"misc_input\")(inputs)\n",
    "\n",
    "dense_inputs = keras.layers.concatenate([board_input, misc_input])\n",
    "dense_model = tf.keras.models.Sequential([  # tf.concat([input[:1], conv_model_output, input[65:]], axis=0)\n",
    "    keras.layers.Input(70),\n",
    "    keras.layers.Dense(1000, activation=activation),\n",
    "    keras.layers.Dense(1000, activation=activation),\n",
    "    keras.layers.Dense(1000, activation=activation),\n",
    "    keras.layers.Dense(LEN_UCI_MOVES, activation=\"sigmoid\")\n",
    "], name=\"dense_model\")\n",
    "dense_output = dense_model(dense_inputs)\n",
    "\n",
    "model = keras.models.Model(inputs, dense_output, name=\"dense_actor\")\n",
    "model.compile(\n",
    "    optimizer = keras.optimizers.legacy.Adam(learning_rate=0.001),\n",
    "    loss = keras.losses.CategoricalCrossentropy(),\n",
    "    metrics = [keras.metrics.CategoricalCrossentropy()],\n",
    ")"
   ]
  },
  {
   "cell_type": "code",
   "execution_count": 17,
   "metadata": {},
   "outputs": [],
   "source": [
    "import pandas as pd\n",
    "import numpy as np\n",
    "\n",
    "test_file = \"../data/split/processed/chess1.pkl\"\n",
    "df = pd.read_pickle(test_file)\n",
    "X = np.concatenate([np.array(df[\"obs_board\"].values.tolist()), np.array(df[\"obs_misc\"].values.tolist())], axis=1)\n",
    "Y = tf.one_hot(df[\"move\"].values, depth=LEN_UCI_MOVES).numpy()"
   ]
  },
  {
   "cell_type": "code",
   "execution_count": 20,
   "metadata": {},
   "outputs": [
    {
     "name": "stdout",
     "output_type": "stream",
     "text": [
      "31250/31250 [==============================] - 212s 7ms/step - loss: 5.1548 - categorical_crossentropy: 5.1548\n"
     ]
    },
    {
     "data": {
      "text/plain": [
       "<keras.src.callbacks.History at 0x2edfba0e0>"
      ]
     },
     "execution_count": 20,
     "metadata": {},
     "output_type": "execute_result"
    }
   ],
   "source": [
    "model.fit(X, Y)"
   ]
  },
  {
   "cell_type": "code",
   "execution_count": 21,
   "metadata": {},
   "outputs": [
    {
     "name": "stdout",
     "output_type": "stream",
     "text": [
      "31250/31250 [==============================] - 51s 2ms/step\n"
     ]
    }
   ],
   "source": [
    "predictions = model.predict(X)"
   ]
  },
  {
   "cell_type": "code",
   "execution_count": 23,
   "metadata": {},
   "outputs": [
    {
     "data": {
      "text/plain": [
       "0.138257"
      ]
     },
     "execution_count": 23,
     "metadata": {},
     "output_type": "execute_result"
    }
   ],
   "source": [
    "accuracy = tf.keras.metrics.CategoricalAccuracy(\n",
    "    name='binary_accuracy', dtype=None\n",
    ")\n",
    "accuracy.update_state(Y, predictions)\n",
    "accuracy.result().numpy()"
   ]
  },
  {
   "cell_type": "code",
   "execution_count": 24,
   "metadata": {},
   "outputs": [
    {
     "data": {
      "text/plain": [
       "4.7597413"
      ]
     },
     "execution_count": 24,
     "metadata": {},
     "output_type": "execute_result"
    }
   ],
   "source": [
    "cross_entropy = tf.keras.metrics.CategoricalCrossentropy(\n",
    "    name='binary_crossentropy',\n",
    "    dtype=None,\n",
    "    from_logits=False,\n",
    "    label_smoothing=0\n",
    ")\n",
    "cross_entropy.update_state(Y, predictions)\n",
    "cross_entropy.result().numpy()"
   ]
  },
  {
   "cell_type": "code",
   "execution_count": 26,
   "metadata": {},
   "outputs": [
    {
     "name": "stdout",
     "output_type": "stream",
     "text": [
      "31250/31250 [==============================] - 49s 2ms/step\n",
      "0.000449\n",
      "7.587028\n"
     ]
    }
   ],
   "source": [
    "reference_model = tf.keras.models.Sequential([  # tf.concat([input[:1], conv_model_output, input[65:]], axis=0)\n",
    "    keras.layers.Input(70),\n",
    "    keras.layers.Dense(1000, activation=activation),\n",
    "    keras.layers.Dense(1000, activation=activation),\n",
    "    keras.layers.Dense(1000, activation=activation),\n",
    "    keras.layers.Dense(LEN_UCI_MOVES, activation=\"sigmoid\")\n",
    "])\n",
    "reference_predictions = reference_model.predict(X)\n",
    "\n",
    "def compute_accuracy(predictions):\n",
    "    accuracy = tf.keras.metrics.CategoricalAccuracy(\n",
    "        name='binary_accuracy', dtype=None\n",
    "    )\n",
    "    accuracy.update_state(Y, predictions)\n",
    "    return accuracy.result().numpy()\n",
    "\n",
    "def compute_crossentropy(predictions):\n",
    "    cross_entropy = tf.keras.metrics.CategoricalCrossentropy(\n",
    "        name='binary_crossentropy',\n",
    "        dtype=None,\n",
    "        from_logits=False,\n",
    "        label_smoothing=0\n",
    "    )\n",
    "    cross_entropy.update_state(Y, predictions)\n",
    "    return cross_entropy.result().numpy()\n",
    "\n",
    "print(compute_accuracy(reference_predictions))\n",
    "print(compute_crossentropy(reference_predictions))"
   ]
  }
 ],
 "metadata": {
  "kernelspec": {
   "display_name": "chess",
   "language": "python",
   "name": "python3"
  },
  "language_info": {
   "codemirror_mode": {
    "name": "ipython",
    "version": 3
   },
   "file_extension": ".py",
   "mimetype": "text/x-python",
   "name": "python",
   "nbconvert_exporter": "python",
   "pygments_lexer": "ipython3",
   "version": "3.10.11"
  }
 },
 "nbformat": 4,
 "nbformat_minor": 2
}
