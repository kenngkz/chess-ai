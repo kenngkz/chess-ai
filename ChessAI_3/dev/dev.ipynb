{
 "cells": [
  {
   "cell_type": "code",
   "execution_count": 1,
   "metadata": {},
   "outputs": [],
   "source": [
    "import numpy as np\n",
    "import time\n",
    "from time import perf_counter as ttt\n",
    "import random\n",
    "\n",
    "# allow func library to be imported\n",
    "import sys\n",
    "sys.path.append('../')\n",
    "\n",
    "from func.convert import *\n",
    "from dtype import Move, Board\n",
    "import get\n",
    "import indicator\n",
    "import prelegal\n",
    "\n",
    "# import variables\n",
    "var_folder = 'C:/Users/lenovo/Desktop/Coding/VSC Projects/Ches_Dev/ChessAI_3/vars/'\n",
    "ini_board_name = 'ini_board.txt'\n",
    "valid_cells_name = 'valid_cells.txt'\n",
    "piece_dirs_name = 'piece_dirs.txt'\n",
    "threats_name = 'threats.txt'\n",
    "\n",
    "with open(var_folder + ini_board_name, 'r') as f:\n",
    "    ini_board = eval(f.read())\n",
    "    ini_board = dict_to_arr(ini_board)\n",
    "\n",
    "with open(var_folder + valid_cells_name) as f:\n",
    "    valid_cells = eval(f.read())\n",
    "\n",
    "with open(var_folder + piece_dirs_name) as f:\n",
    "    piece_dirs = eval(f.read())\n",
    "\n",
    "with open(var_folder + threats_name, 'r') as f:\n",
    "    threats = eval(f.read())"
   ]
  },
  {
   "cell_type": "code",
   "execution_count": 2,
   "metadata": {},
   "outputs": [],
   "source": [
    "def random_board_full_dict():\n",
    "    piece_nums = {1:8, 2:2, 3:2, 4:2, 5:1, 6:1}  # number of pieces per side\n",
    "    board = {}\n",
    "    for side in [1, -1]:\n",
    "        for piece_index, piece_num in piece_nums.items():\n",
    "            # define possible cells for the piece to be in\n",
    "            if piece_index == 1:\n",
    "                valid_cells = [31, 32, 33, 34, 35, 36, 37, 38, 41, 42, 43, 44, 45, 46, 47, 48, 51, 52, 53, 54, 55, 56, 57, 58, 61, 62, 63, 64, 65, 66, 67, 68, 71, 72, 73, 74, 75, 76, 77, 78, 81, 82, 83, 84, 85, 86, 87, 88]\n",
    "            else:\n",
    "                valid_cells = [21, 22, 23, 24, 25, 26, 27, 28, 31, 32, 33, 34, 35, 36, 37, 38, 41, 42, 43, 44, 45, 46, 47, 48, 51, 52, 53, 54, 55, 56, 57, 58, 61, 62, 63, 64, 65, 66, 67, 68, 71, 72, 73, 74, 75, 76, 77, 78, 81, 82, 83, 84, 85, 86, 87, 88, 91, 92, 93, 94, 95, 96, 97, 98]\n",
    "            \n",
    "            # king cannot be placed next to another king. remove the area around the existing king from valid cells\n",
    "            if piece_index*side == -6:\n",
    "                for dir_to_surrounding in [-11, -10, -9, -1, 0, 1, 9, 10, 11]:  # loop through every cell around the king position\n",
    "                    drop_cell = king_cell + dir_to_surrounding\n",
    "                    try:\n",
    "                        valid_cells.remove(drop_cell)\n",
    "                    except ValueError:\n",
    "                        pass\n",
    "\n",
    "            for _ in range(piece_num):\n",
    "                while True:\n",
    "                    # select a random cell\n",
    "                    rand_index = random.randint(0, len(valid_cells)-1)\n",
    "                    cell = valid_cells[rand_index]\n",
    "\n",
    "                    if cell not in board:\n",
    "                        board[cell] = piece_index * side\n",
    "                        break\n",
    "\n",
    "            # record the white king position\n",
    "            if piece_index == 6:\n",
    "                king_cell = cell\n",
    "\n",
    "    return board"
   ]
  },
  {
   "cell_type": "code",
   "execution_count": 3,
   "metadata": {},
   "outputs": [
    {
     "name": "stdout",
     "output_type": "stream",
     "text": [
      "[[-4 -2 -3 -5 -6 -3 -2 -4]\n",
      " [-1 -1 -1 -1 -1 -1 -1 -1]\n",
      " [ 0  0  0  0  0  0  0  0]\n",
      " [ 0  0  0  0  0  0  0  0]\n",
      " [ 0  0  0  0  0  0  0  0]\n",
      " [ 0  0  0  0  0  0  0  0]\n",
      " [ 1  1  1  1  1  1  1  1]\n",
      " [ 4  2  3  5  6  3  2  4]]\n",
      "dict_values([True, True, True, True])\n"
     ]
    }
   ],
   "source": [
    "castle_status = None\n",
    "arr = np.array([\n",
    "    [0, 0, 0, 0, 0, 0, 0, 0],\n",
    "    [4, 5, 6, 0, 0, 0, 0, 0],\n",
    "    [0, 0, 0, 1, 0, 0, 0, 0],\n",
    "    [0, 0, 0, 0, -5, 0, 0, 0],\n",
    "    [0, 0, -3, 0, 0, 0, 0, 0],\n",
    "    [0, 0, 0, 0, 0, 0, 0, 0],\n",
    "    [0, 0, -5, 0, 0, 0, 0, 0],\n",
    "    [0, 0,-6, 0, 0, 0, 0, 0],\n",
    "])\n",
    "\n",
    "board = Board.from_arr(ini_board)\n",
    "\n",
    "print(board)"
   ]
  },
  {
   "cell_type": "code",
   "execution_count": 4,
   "metadata": {},
   "outputs": [],
   "source": [
    "def legal1(board, move):\n",
    "    # pseudomove every move\n",
    "    new_board = board.move_copy(move)\n",
    "    return indicator.check(new_board, move.side)\n",
    "\n",
    "def legal2(board, move):\n",
    "    # if check: pseudomove\n",
    "    # else: only pseudomove ally pieces which are in slider positions\n",
    "    if board.check[move.side]:\n",
    "        new_board = board.move_copy(move)\n",
    "        return indicator.check(new_board, move.side)\n",
    "    # elif check if piece is an ally in slider position from king\n",
    "\n",
    "    king_to_piece = move.start - board.king_pos[move.side]\n",
    "    for direction in [1, 9, 10, 11]:\n",
    "        if king_to_piece % direction == 0:\n",
    "            if king_to_piece // direction in list(range(-7, 8)):\n",
    "                new_board = board.move_copy(move)\n",
    "                return indicator.check(new_board, move.side)\n",
    "    \n",
    "    return True\n",
    "\n",
    "\n",
    "def legal3(board, move):\n",
    "    # if check: pseudomove\n",
    "    # else: see if the 2nd piece behind ally piece in slider positions is a threat (whether the ally piece is pinned)\n",
    "    if board.check[move.side]:\n",
    "        new_board = board.move_copy(move)\n",
    "        return indicator.check(new_board, move.side)\n",
    "\n",
    "    king_to_piece = move.start - board.king_pos[move.side]\n",
    "    for direction in [-11, -10, -9, -1, 1, 9, 10, 11]:\n",
    "        if king_to_piece % direction == 0:\n",
    "            if king_to_piece // direction in list(range(1, 8)):\n",
    "                piece_behind = get.first_in_direction(board, move.start, direction, 6)\n",
    "                if piece_behind == -move.side * board.slider_threats[direction]:\n",
    "                    return False\n",
    "    return True"
   ]
  },
  {
   "cell_type": "code",
   "execution_count": 7,
   "metadata": {},
   "outputs": [
    {
     "name": "stdout",
     "output_type": "stream",
     "text": [
      "[[-2  4 -6  0  2  0  0  0]\n",
      " [ 0  1 -4 -1 -1  0  0 -1]\n",
      " [-1  3  0  0  0  1  0  0]\n",
      " [ 0 -2  0  0 -1  1  0  1]\n",
      " [-1  1 -3 -1  0  1  0  0]\n",
      " [ 0 -1  0  3  0  0  5  4]\n",
      " [ 1  0 -5  0 -3  1  0  0]\n",
      " [ 0  2  0 -4  6  0  0  0]]\n",
      "dict_values([True, True, True, True])\n",
      "Move(1, 74, 42, 0, 0)\n",
      "True\n"
     ]
    }
   ],
   "source": [
    "def gen_random_data():\n",
    "    board = Board(random_board_full_dict())\n",
    "    while True:\n",
    "        random_move_data = gen_random_move_data()\n",
    "        piece_sign = get.side(board, random_move_data[0])\n",
    "        if piece_sign != 0:\n",
    "            break\n",
    "    \n",
    "    move = Move(piece_sign, *random_move_data)\n",
    "    return board, move\n",
    "\n",
    "def gen_random_move_data():\n",
    "    r = random.randint\n",
    "    return valid_cells[r(0, len(valid_cells)-1)], valid_cells[r(0, len(valid_cells)-1)], 0, 0\n",
    "\n",
    "board, move = gen_random_data()\n",
    "print(board)\n",
    "print(move)\n",
    "print(legal3(board, move))"
   ]
  },
  {
   "cell_type": "markdown",
   "metadata": {},
   "source": [
    "create a vector to encode information about the board position and legal moves\n",
    "\n",
    "for legal moves:\n",
    "    have a 63x64 space to encode every possible simple move (from any start cell to any final cell)\n",
    "    these can take either values of 1 or 0 (legal/not legal)\n",
    "\n",
    "    + additional 0/1 spots for castle moves (4 of them)\n",
    "    + additional 0/1 spots for pawn promotion moves (8cellsx2sidesx4promo)\n",
    "\n",
    "    train the model at first to select only legal moves\n",
    "    how to ensure that the model will output only legal moves when inference is done??\n",
    "     - use softmax to get a confidence level for each move, pick the move with the highest confidence. \n",
    "       if not legal, then pick the 2nd highest confidence and so on"
   ]
  },
  {
   "cell_type": "markdown",
   "metadata": {},
   "source": [
    "Valid cells:\n",
    "   [21, 22, 23, 24, 25, 26, 27, 28, \n",
    "    31, 32, 33, 34, 35, 36, 37, 38, \n",
    "    41, 42, 43, 44, 45, 46, 47, 48,\n",
    "    51, 52, 53, 54, 55, 56, 57, 58, \n",
    "    61, 62, 63, 64, 65, 66, 67, 68, \n",
    "    71, 72, 73, 74, 75, 76, 77, 78, \n",
    "    81, 82, 83, 84, 85, 86, 87, 88, \n",
    "    91, 92, 93, 94, 95, 96, 97, 98]"
   ]
  }
 ],
 "metadata": {
  "interpreter": {
   "hash": "5cee0045c93b03fae7efe4c18f9d9ed315e1cdac341505bf25d8fa06a3d013c2"
  },
  "kernelspec": {
   "display_name": "Python 3.7.10 64-bit ('chess_app': conda)",
   "name": "python3"
  },
  "language_info": {
   "codemirror_mode": {
    "name": "ipython",
    "version": 3
   },
   "file_extension": ".py",
   "mimetype": "text/x-python",
   "name": "python",
   "nbconvert_exporter": "python",
   "pygments_lexer": "ipython3",
   "version": "3.7.10"
  },
  "orig_nbformat": 4
 },
 "nbformat": 4,
 "nbformat_minor": 2
}
