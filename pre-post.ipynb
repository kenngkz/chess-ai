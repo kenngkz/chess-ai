{
 "cells": [
  {
   "cell_type": "code",
   "execution_count": null,
   "metadata": {},
   "outputs": [],
   "source": [
    "import chess\n",
    "import chess.pgn\n",
    "import random\n",
    "import pandas as pd\n",
    "import numpy as np\n",
    "\n",
    "import constants\n",
    "import utils"
   ]
  },
  {
   "cell_type": "markdown",
   "metadata": {},
   "source": [
    "# Pre"
   ]
  },
  {
   "cell_type": "code",
   "execution_count": null,
   "metadata": {},
   "outputs": [],
   "source": [
    "def split_pgn():\n",
    "    pgn_files = [f\"data/chessgames20{i}.pgn\" for i in range(16, 22)]\n",
    "    outcomes = {\"1\":1.0, \"1/2\":0.5, \"0\":0.0}\n",
    "    df = []\n",
    "    file_counter = 1\n",
    "    for pgn_file in pgn_files:\n",
    "        print(f\"{pgn_file = }\")\n",
    "        with open(pgn_file, \"r\") as f:\n",
    "            game = chess.pgn.read_game(f)\n",
    "            while game != None:\n",
    "                result = game.headers[\"Result\"].split(\"-\")\n",
    "                result = outcomes[result[0]]  # 1 if white wins 0 if black wins 0.5 if stalemate\n",
    "                board = game.board()\n",
    "                for move in game.mainline_moves():\n",
    "                    df.append({\"board\":board.fen(), \"move\":constants.uci_moves[move.uci()], \"outcome\":result})\n",
    "                    board.push(move)\n",
    "                if len(df) >= 1000000:\n",
    "                    df = pd.DataFrame(df)\n",
    "                    df.to_csv(f\"data/split/chess{file_counter}.csv\", index=False)\n",
    "                    file_counter += 1\n",
    "                    df = []\n",
    "                game = chess.pgn.read_game(f)\n",
    "\n",
    "def shuffle_csv(rounds = 10, batch_size=10):\n",
    "    files = [f\"data/split/chess{i}.csv\" for i in range(1, 27)]\n",
    "    n_rows = 1000000\n",
    "    leftover = pd.DataFrame([], columns=[\"board\", \"move\", \"outcome\"])\n",
    "    for i in range(rounds):\n",
    "        print(f\"round {i+1}/{rounds}\")\n",
    "        picked_files = random.sample(files, batch_size)\n",
    "        df = pd.DataFrame([], columns=[\"board\", \"move\", \"outcome\"])\n",
    "        for file in picked_files:\n",
    "            df = pd.concat([df, pd.read_csv(file)], ignore_index=True)\n",
    "        df = df.sample(frac=1)\n",
    "        for n, file in enumerate(picked_files):\n",
    "            df.iloc[(n_rows*n):(n_rows*(n+1)), :].to_csv(file, index=False)\n",
    "        leftover = pd.concat([leftover, df.iloc[(n_rows*(n+1)):, :]])\n",
    "    leftover = leftover.sample(frac=1)\n",
    "    for i in range(len(leftover)//n_rows+1):\n",
    "        leftover.iloc[(n_rows*i):(n_rows*(i+1))].to_csv(f\"data/split/chess{27+i}.csv\", index=False)\n",
    "\n",
    "def process_df(df):\n",
    "    obs = df[\"board\"].map(utils.parse_fen)\n",
    "    df[\"obs_board\"] = obs.map(lambda x: x[:64])\n",
    "    df[\"obs_misc\"] = obs.map(lambda x: x[64:])\n",
    "    return df\n",
    "\n",
    "def process_file(file_numbers):\n",
    "    for n in file_numbers:\n",
    "        print(f\"proccessing file {n}\")\n",
    "        df = pd.read_csv(f\"data/split/chess{n}.csv\")\n",
    "        df = process_df(df)\n",
    "        df.to_pickle(f\"data/split/processed/chess{n}.pkl\")"
   ]
  },
  {
   "cell_type": "code",
   "execution_count": null,
   "metadata": {},
   "outputs": [],
   "source": [
    "split_pgn()\n",
    "shuffle_csv()\n",
    "process_file([1, 2, 3, 4, 5])"
   ]
  },
  {
   "cell_type": "code",
   "execution_count": null,
   "metadata": {},
   "outputs": [],
   "source": [
    "def restrict_legal(move_arr, fen):\n",
    "    ''' Restricts the move probability array to only legal moves and rescale remaining legal move probabilities '''\n",
    "    board = chess.Board(fen)\n",
    "    legal_arr = np.zeros(constants.LEN_UCI_MOVES, dtype=np.int16)\n",
    "    for move in board.legal_moves:\n",
    "        legal_arr[constants.uci_moves[move.uci()]] = 1\n",
    "    for i in range(constants.LEN_UCI_MOVES):\n",
    "        if legal_arr[i] == 0:\n",
    "            move_arr[i] = 0\n",
    "    return move_arr / np.sum(move_arr)"
   ]
  },
  {
   "cell_type": "markdown",
   "metadata": {},
   "source": [
    "# Post"
   ]
  },
  {
   "cell_type": "code",
   "execution_count": null,
   "metadata": {},
   "outputs": [],
   "source": []
  }
 ],
 "metadata": {
  "kernelspec": {
   "display_name": "Python 3.10.5 64-bit ('chess-ai')",
   "language": "python",
   "name": "python3"
  },
  "language_info": {
   "name": "python",
   "version": "3.10.5"
  },
  "orig_nbformat": 4,
  "vscode": {
   "interpreter": {
    "hash": "5b6482292139e81a4c390b61f9abeeeb497a34aaede834f7065ff9959c827cc3"
   }
  }
 },
 "nbformat": 4,
 "nbformat_minor": 2
}
